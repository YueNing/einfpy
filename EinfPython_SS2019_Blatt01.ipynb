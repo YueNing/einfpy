{
 "cells": [
  {
   "cell_type": "markdown",
   "metadata": {},
   "source": [
    "# Einführung in Python - Übungsblatt 1"
   ]
  },
  {
   "cell_type": "markdown",
   "metadata": {},
   "source": [
    "<img src=\"https://imgur.com/oC7g1Xd.png\" alt=\"\" width=500 border=\"0\" />\n",
    "\n",
    "**Hinweise**\n",
    "- Mit `help(Ausdruck)` können Sie sich Informationen zu Ausdruck anzeigen lassen.\n",
    "- Sie können in den Zellen, die mit \"`In [ ]:`\" beginnen, Python-Code eingeben und mit **STRG+Enter** ausführen. Wenn Sie **SHIFT+Enter** drücken, wird der Code ausgeführt und die nächste Zelle wird ausgewählt. Führen Sie als Test den folgenden Code aus:"
   ]
  },
  {
   "cell_type": "code",
   "execution_count": 1,
   "metadata": {},
   "outputs": [
    {
     "name": "stdout",
     "output_type": "stream",
     "text": [
      "Help on built-in function print in module builtins:\n",
      "\n",
      "print(...)\n",
      "    print(value, ..., sep=' ', end='\\n', file=sys.stdout, flush=False)\n",
      "    \n",
      "    Prints the values to a stream, or to sys.stdout by default.\n",
      "    Optional keyword arguments:\n",
      "    file:  a file-like object (stream); defaults to the current sys.stdout.\n",
      "    sep:   string inserted between values, default a space.\n",
      "    end:   string appended after the last value, default a newline.\n",
      "    flush: whether to forcibly flush the stream.\n",
      "\n"
     ]
    }
   ],
   "source": [
    "help(print)"
   ]
  },
  {
   "cell_type": "code",
   "execution_count": 2,
   "metadata": {},
   "outputs": [
    {
     "name": "stdout",
     "output_type": "stream",
     "text": [
      "Hallo Daniel\n"
     ]
    }
   ],
   "source": [
    "print(\"Hallo Daniel\")"
   ]
  },
  {
   "cell_type": "markdown",
   "metadata": {},
   "source": [
    "- Dabei ist es möglich mehrere Zeilen zu programmieren, die dann nacheinander ausgeführt werden."
   ]
  },
  {
   "cell_type": "code",
   "execution_count": 4,
   "metadata": {},
   "outputs": [
    {
     "name": "stdout",
     "output_type": "stream",
     "text": [
      "18\n"
     ]
    }
   ],
   "source": [
    "a = 5\n",
    "b = 13\n",
    "print(a + b)"
   ]
  },
  {
   "cell_type": "markdown",
   "metadata": {},
   "source": [
    "- Falls die **letzte Zeile** in einer Zelle einen Wert beinhaltet, wird dieser als \"`Out [x]:`\" ausgegeben. Hierfür ist kein Aufruf von `print` notwendig."
   ]
  },
  {
   "cell_type": "code",
   "execution_count": 5,
   "metadata": {},
   "outputs": [
    {
     "name": "stdout",
     "output_type": "stream",
     "text": [
      "Variablen bleiben über Zellen hinweg erhalten:\n"
     ]
    },
    {
     "data": {
      "text/plain": [
       "18"
      ]
     },
     "execution_count": 5,
     "metadata": {},
     "output_type": "execute_result"
    }
   ],
   "source": [
    "print(\"Variablen bleiben über Zellen hinweg erhalten:\")\n",
    "a + b"
   ]
  },
  {
   "cell_type": "markdown",
   "metadata": {},
   "source": [
    "---\n",
    "\n",
    "## Aufgabe 1 (Arithmetische Operatoren und Ausdrücke)\n",
    "**(a)**\n",
    "Welche Ausgaben liefern die folgenden Ausdrücke und welche Rechenoperationen wurden verwendet? "
   ]
  },
  {
   "cell_type": "code",
   "execution_count": 6,
   "metadata": {},
   "outputs": [
    {
     "data": {
      "text/plain": [
       "45"
      ]
     },
     "execution_count": 6,
     "metadata": {},
     "output_type": "execute_result"
    }
   ],
   "source": [
    "9 * 5"
   ]
  },
  {
   "cell_type": "code",
   "execution_count": 7,
   "metadata": {},
   "outputs": [
    {
     "data": {
      "text/plain": [
       "4.5"
      ]
     },
     "execution_count": 7,
     "metadata": {},
     "output_type": "execute_result"
    }
   ],
   "source": [
    "9 / 2"
   ]
  },
  {
   "cell_type": "code",
   "execution_count": 8,
   "metadata": {},
   "outputs": [
    {
     "data": {
      "text/plain": [
       "4"
      ]
     },
     "execution_count": 8,
     "metadata": {},
     "output_type": "execute_result"
    }
   ],
   "source": [
    "9 // 2"
   ]
  },
  {
   "cell_type": "code",
   "execution_count": 9,
   "metadata": {},
   "outputs": [
    {
     "data": {
      "text/plain": [
       "-5"
      ]
     },
     "execution_count": 9,
     "metadata": {},
     "output_type": "execute_result"
    }
   ],
   "source": [
    "-9 // 2"
   ]
  },
  {
   "cell_type": "code",
   "execution_count": 10,
   "metadata": {},
   "outputs": [
    {
     "data": {
      "text/plain": [
       "5"
      ]
     },
     "execution_count": 10,
     "metadata": {},
     "output_type": "execute_result"
    }
   ],
   "source": [
    "35 % 6"
   ]
  },
  {
   "cell_type": "code",
   "execution_count": 11,
   "metadata": {},
   "outputs": [
    {
     "data": {
      "text/plain": [
       "8"
      ]
     },
     "execution_count": 11,
     "metadata": {},
     "output_type": "execute_result"
    }
   ],
   "source": [
    "2**3"
   ]
  },
  {
   "cell_type": "markdown",
   "metadata": {},
   "source": [
    "\n",
    "**(b)** Gegeben: `7 * 2 ** 3 * 3 + 5 * 8 / 2 ** 2 - 32.1 // 8 + 10 % 3 * 2`.\n",
    "\n",
    "In welcher Reihenfolge werden die Operatoren angewendet? Klammern Sie den Ausdruck so, dass die Operatorrangfolge offensichtlich wird."
   ]
  },
  {
   "cell_type": "code",
   "execution_count": 73,
   "metadata": {},
   "outputs": [],
   "source": [
    "assert (7 * (2**3) * 3) + (5 * 8 / 2 ** 2) - (32.1//8) + ((10 % 3) * 2) \\\n",
    "== 7 * 2 ** 3 * 3 + 5 * 8 / 2 ** 2 - 32.1 // 8 + 10 % 3 * 2\n"
   ]
  },
  {
   "cell_type": "markdown",
   "metadata": {},
   "source": [
    "---\n",
    "\n",
    "## Aufgabe 2 (Datentypen)\n",
    "\n",
    "**(a)** Jede Instanz `inst` besitzt einen Datentyp, der sich mit `type(inst)` ermitteln lässt, z.B. erzeugt `type(1)` die Ausgabe `<class 'int'>`.\n",
    "\n",
    "**(i)** Untersuchen Sie die Ausgabe von `type` für die Parameter `1.0, 1+3`, `1+3.0`, `\"1\"`, `True`, `[1,2,3]`, `{1:100,2:200}`, `{1,2,3}` und `print`.\n"
   ]
  },
  {
   "cell_type": "code",
   "execution_count": 74,
   "metadata": {},
   "outputs": [
    {
     "data": {
      "text/plain": [
       "float"
      ]
     },
     "execution_count": 74,
     "metadata": {},
     "output_type": "execute_result"
    }
   ],
   "source": [
    "type(1.0)"
   ]
  },
  {
   "cell_type": "code",
   "execution_count": 75,
   "metadata": {},
   "outputs": [
    {
     "data": {
      "text/plain": [
       "int"
      ]
     },
     "execution_count": 75,
     "metadata": {},
     "output_type": "execute_result"
    }
   ],
   "source": [
    "type(1+3)"
   ]
  },
  {
   "cell_type": "code",
   "execution_count": 76,
   "metadata": {},
   "outputs": [
    {
     "data": {
      "text/plain": [
       "float"
      ]
     },
     "execution_count": 76,
     "metadata": {},
     "output_type": "execute_result"
    }
   ],
   "source": [
    "type(1+3.0)"
   ]
  },
  {
   "cell_type": "code",
   "execution_count": 77,
   "metadata": {},
   "outputs": [
    {
     "data": {
      "text/plain": [
       "str"
      ]
     },
     "execution_count": 77,
     "metadata": {},
     "output_type": "execute_result"
    }
   ],
   "source": [
    "type(\"1\")"
   ]
  },
  {
   "cell_type": "code",
   "execution_count": 78,
   "metadata": {},
   "outputs": [
    {
     "data": {
      "text/plain": [
       "bool"
      ]
     },
     "execution_count": 78,
     "metadata": {},
     "output_type": "execute_result"
    }
   ],
   "source": [
    "type(True)"
   ]
  },
  {
   "cell_type": "code",
   "execution_count": 79,
   "metadata": {},
   "outputs": [
    {
     "data": {
      "text/plain": [
       "list"
      ]
     },
     "execution_count": 79,
     "metadata": {},
     "output_type": "execute_result"
    }
   ],
   "source": [
    "type([1,2,3])"
   ]
  },
  {
   "cell_type": "code",
   "execution_count": 80,
   "metadata": {},
   "outputs": [
    {
     "data": {
      "text/plain": [
       "dict"
      ]
     },
     "execution_count": 80,
     "metadata": {},
     "output_type": "execute_result"
    }
   ],
   "source": [
    "type({1:100,2:200})"
   ]
  },
  {
   "cell_type": "code",
   "execution_count": 81,
   "metadata": {},
   "outputs": [
    {
     "data": {
      "text/plain": [
       "set"
      ]
     },
     "execution_count": 81,
     "metadata": {},
     "output_type": "execute_result"
    }
   ],
   "source": [
    "type({1,2,3})"
   ]
  },
  {
   "cell_type": "code",
   "execution_count": 82,
   "metadata": {},
   "outputs": [
    {
     "data": {
      "text/plain": [
       "builtin_function_or_method"
      ]
     },
     "execution_count": 82,
     "metadata": {},
     "output_type": "execute_result"
    }
   ],
   "source": [
    "type(print)"
   ]
  },
  {
   "cell_type": "markdown",
   "metadata": {},
   "source": [
    "---\n",
    "\n",
    "**(ii)** Interpretieren Sie die unterschiedlichen Ausgaben von ```1+3```, ```1+3.0```, ```\"1\"+\"3\"```, ```1+\"3\"```, ```1+True``` und ```1+False```.\n"
   ]
  },
  {
   "cell_type": "code",
   "execution_count": 83,
   "metadata": {},
   "outputs": [
    {
     "data": {
      "text/plain": [
       "int"
      ]
     },
     "execution_count": 83,
     "metadata": {},
     "output_type": "execute_result"
    }
   ],
   "source": [
    "type(1+3)"
   ]
  },
  {
   "cell_type": "code",
   "execution_count": 90,
   "metadata": {},
   "outputs": [
    {
     "data": {
      "text/plain": [
       "int"
      ]
     },
     "execution_count": 90,
     "metadata": {},
     "output_type": "execute_result"
    }
   ],
   "source": [
    "type(1+3)"
   ]
  },
  {
   "cell_type": "code",
   "execution_count": 91,
   "metadata": {},
   "outputs": [
    {
     "data": {
      "text/plain": [
       "str"
      ]
     },
     "execution_count": 91,
     "metadata": {},
     "output_type": "execute_result"
    }
   ],
   "source": [
    "type(\"1\" + \"3\")"
   ]
  },
  {
   "cell_type": "code",
   "execution_count": 92,
   "metadata": {
    "scrolled": true
   },
   "outputs": [
    {
     "ename": "TypeError",
     "evalue": "unsupported operand type(s) for +: 'int' and 'str'",
     "output_type": "error",
     "traceback": [
      "\u001b[0;31m---------------------------------------------------------------------------\u001b[0m",
      "\u001b[0;31mTypeError\u001b[0m                                 Traceback (most recent call last)",
      "\u001b[0;32m<ipython-input-92-a0259e604224>\u001b[0m in \u001b[0;36m<module>\u001b[0;34m\u001b[0m\n\u001b[0;32m----> 1\u001b[0;31m \u001b[0mtype\u001b[0m\u001b[0;34m(\u001b[0m\u001b[0;36m1\u001b[0m\u001b[0;34m+\u001b[0m\u001b[0;34m\"3\"\u001b[0m\u001b[0;34m)\u001b[0m\u001b[0;34m\u001b[0m\u001b[0m\n\u001b[0m",
      "\u001b[0;31mTypeError\u001b[0m: unsupported operand type(s) for +: 'int' and 'str'"
     ]
    }
   ],
   "source": [
    "type(1+\"3\")"
   ]
  },
  {
   "cell_type": "code",
   "execution_count": 95,
   "metadata": {},
   "outputs": [
    {
     "data": {
      "text/plain": [
       "int"
      ]
     },
     "execution_count": 95,
     "metadata": {},
     "output_type": "execute_result"
    }
   ],
   "source": [
    "type(1+True)"
   ]
  },
  {
   "cell_type": "code",
   "execution_count": 98,
   "metadata": {},
   "outputs": [
    {
     "data": {
      "text/plain": [
       "int"
      ]
     },
     "execution_count": 98,
     "metadata": {},
     "output_type": "execute_result"
    }
   ],
   "source": [
    "type(1+False)"
   ]
  },
  {
   "cell_type": "markdown",
   "metadata": {},
   "source": [
    "---\n",
    "\n",
    "**(iii)** Mit `int`, `float`, `str` können Sie Instanzen in Ganz- bzw. Gleitkommazahlen oder Strings umwandeln.\n",
    "\n",
    "Erweitern Sie die Ausdrücke in (ii) um die notwendigen Umwandlungen, sodass alle Ausdrücke außer `1+True` und `1+False` die Ausgabe ```4.0``` bzw. ```4``` bzw. ```13``` erzeugen."
   ]
  },
  {
   "cell_type": "code",
   "execution_count": 102,
   "metadata": {},
   "outputs": [
    {
     "data": {
      "text/plain": [
       "4.0"
      ]
     },
     "execution_count": 102,
     "metadata": {},
     "output_type": "execute_result"
    }
   ],
   "source": [
    "1 + 3.0"
   ]
  },
  {
   "cell_type": "code",
   "execution_count": 103,
   "metadata": {},
   "outputs": [
    {
     "data": {
      "text/plain": [
       "4"
      ]
     },
     "execution_count": 103,
     "metadata": {},
     "output_type": "execute_result"
    }
   ],
   "source": [
    "1 + 3"
   ]
  },
  {
   "cell_type": "code",
   "execution_count": 104,
   "metadata": {},
   "outputs": [
    {
     "data": {
      "text/plain": [
       "13"
      ]
     },
     "execution_count": 104,
     "metadata": {},
     "output_type": "execute_result"
    }
   ],
   "source": [
    "2+11"
   ]
  },
  {
   "cell_type": "code",
   "execution_count": 105,
   "metadata": {},
   "outputs": [
    {
     "data": {
      "text/plain": [
       "13"
      ]
     },
     "execution_count": 105,
     "metadata": {},
     "output_type": "execute_result"
    }
   ],
   "source": [
    "1+12"
   ]
  },
  {
   "cell_type": "markdown",
   "metadata": {},
   "source": [
    "---\n",
    "\n",
    "**(b)** Wie ändert sich die Ausgabe für den Ausdruck in Aufgabe 1 (b), wenn Sie den Operator ```/``` durch ```//``` und ```32.1``` durch ```32``` ersetzen? Erklären Sie!"
   ]
  },
  {
   "cell_type": "code",
   "execution_count": 108,
   "metadata": {},
   "outputs": [
    {
     "data": {
      "text/plain": [
       "246"
      ]
     },
     "execution_count": 108,
     "metadata": {},
     "output_type": "execute_result"
    }
   ],
   "source": [
    "7 * 2 ** 3 * 3 + 5 * (8 // 2) ** 2 - 32 // 8 + 10 % 3 * 2"
   ]
  },
  {
   "cell_type": "markdown",
   "metadata": {},
   "source": [
    "\n",
    "---\n",
    "\n",
    "## Aufgabe 3 (Die eingebauten Funktionen ```print``` und ```input```)\n",
    "\n",
    "**(a)** Mit der Funktion `print` können Werte auf dem Bildschirm ausgegeben werden. \n",
    "Dabei können `print` mehrere Werte durch Kommata getrennt übergeben werden, wie z.B."
   ]
  },
  {
   "cell_type": "code",
   "execution_count": 109,
   "metadata": {},
   "outputs": [
    {
     "name": "stdout",
     "output_type": "stream",
     "text": [
      "Ich bin 28 Jahre alt\n"
     ]
    }
   ],
   "source": [
    "print(\"Ich bin\", 28, \"Jahre alt\")"
   ]
  },
  {
   "cell_type": "markdown",
   "metadata": {},
   "source": [
    "Machen Sie sich mit der Funktion ```print``` vertraut. \n",
    "Geben Sie dabei insbesondere Strings, Gleitkommazahlen, Ganzzahlen und Listen aus.\n",
    "Schauen Sie sich außerdem die Hilfe zu ```print``` mittels ```help(print)``` an. (Sie müssen sie nicht vollständig lesen!)"
   ]
  },
  {
   "cell_type": "code",
   "execution_count": 120,
   "metadata": {},
   "outputs": [
    {
     "name": "stdout",
     "output_type": "stream",
     "text": [
      "1\n"
     ]
    }
   ],
   "source": [
    "a = 1\n",
    "print('{}'.format(a))"
   ]
  },
  {
   "cell_type": "markdown",
   "metadata": {},
   "source": [
    "**(b)** Führen Sie folgenden Zeilen der Reihe nach aus.\n",
    "Welche Bedeutung haben die Ausdrücke hinter `sep` bzw. `end`?"
   ]
  },
  {
   "cell_type": "code",
   "execution_count": 123,
   "metadata": {},
   "outputs": [
    {
     "name": "stdout",
     "output_type": "stream",
     "text": [
      "Hallo***ich***bin***20***Jahre***alt\n"
     ]
    }
   ],
   "source": [
    "print(\"Hallo\", \"ich\", \"bin\", 20, \"Jahre\", \"alt\", sep=\"***\")"
   ]
  },
  {
   "cell_type": "markdown",
   "metadata": {},
   "source": [
    "seperat with *** between string"
   ]
  },
  {
   "cell_type": "code",
   "execution_count": 129,
   "metadata": {},
   "outputs": [
    {
     "name": "stdout",
     "output_type": "stream",
     "text": [
      "Freut mich\n",
      "fuer dich!\n"
     ]
    }
   ],
   "source": [
    "print(\"Freut mich\", end=\"\\n\")\n",
    "print(\"fuer dich!\")"
   ]
  },
  {
   "cell_type": "code",
   "execution_count": 130,
   "metadata": {},
   "outputs": [
    {
     "name": "stdout",
     "output_type": "stream",
     "text": [
      "Ich will-eine eigene-Zeile!Ende"
     ]
    }
   ],
   "source": [
    "print(\"Ich will\", \"eine eigene\", \"Zeile!\", sep=\"-\", end=\"Ende\")"
   ]
  },
  {
   "cell_type": "markdown",
   "metadata": {},
   "source": [
    "\n",
    "---\n",
    "\n",
    "**(c)** Die eingebaute Funktion `input` erlaubt es, Zeichenketten vom Benutzer über die Tastatur einzulesen.\n",
    "Dabei kann `input` als Parameter einen String mit einer Eingabeaufforderung übergeben werden.\n",
    "\n",
    "Lesen Sie mithilfe von `input` das Geburtsjahr des Benutzers ein und referenzieren Sie es mit der Referenz `jahr`.\n",
    "Geben Sie anschließend mit `print` das Jahr aus, in dem der Benutzer 100 Jahre alt wird.\n",
    "\n",
    "Erklären Sie die Ausgabe von `type(jahr)` unmittelbar nach dem Einlesen."
   ]
  },
  {
   "cell_type": "code",
   "execution_count": 132,
   "metadata": {},
   "outputs": [
    {
     "name": "stdout",
     "output_type": "stream",
     "text": [
      "100\n"
     ]
    },
    {
     "data": {
      "text/plain": [
       "str"
      ]
     },
     "execution_count": 132,
     "metadata": {},
     "output_type": "execute_result"
    }
   ],
   "source": [
    "jahr = input()\n",
    "type(jahr)"
   ]
  },
  {
   "cell_type": "markdown",
   "metadata": {},
   "source": [
    "\n",
    "---\n",
    "\n",
    "## Aufgabe 4 (Vergleichsoperatoren) ##\n",
    "\n",
    "Mithilfe von `<`, `>`, `<=`, `>=`, `==` und `!=` können Instanzen anhand ihrer Werte\n",
    "verglichen werden. \n",
    "\n",
    "Untersuchen Sie das Verhalten von `==` und `<` für alle Zweierkombinationen von `1`, `1.0`, `2.0`, `\"1\"` und `\"2\"`. "
   ]
  },
  {
   "cell_type": "code",
   "execution_count": 137,
   "metadata": {},
   "outputs": [
    {
     "data": {
      "text/plain": [
       "True"
      ]
     },
     "execution_count": 137,
     "metadata": {},
     "output_type": "execute_result"
    }
   ],
   "source": [
    "1 <= 1.0"
   ]
  },
  {
   "cell_type": "markdown",
   "metadata": {},
   "source": [
    "Was fällt Ihnen auf?\n",
    "\n",
    "\n",
    "Testen Sie das Verhalten von `<` für weitere Strings. Betrachten Sie nebenbei Groß- und Kleinschreibung."
   ]
  },
  {
   "cell_type": "code",
   "execution_count": 154,
   "metadata": {},
   "outputs": [
    {
     "data": {
      "text/plain": [
       "True"
      ]
     },
     "execution_count": 154,
     "metadata": {},
     "output_type": "execute_result"
    }
   ],
   "source": [
    "ord('s')\n",
    "'s' > 'S'"
   ]
  },
  {
   "cell_type": "markdown",
   "metadata": {},
   "source": [
    "Wann ist die Bedingung `s1 < s2` für zwei Strings `s1` und `s2` erfüllt?\n",
    "\n"
   ]
  },
  {
   "cell_type": "markdown",
   "metadata": {},
   "source": [
    "---\n",
    "\n",
    "## Aufgabe 5 (Kontrollstrukturen, Datentypen `str` und `list`) ##\n",
    "\n",
    "**(a)** Erzeugen Sie eine Referenz `s` auf den String `\"Python ist toll\"`.  \n",
    "Greifen Sie für eine Zahl $i \\in \\{0,\\dots , \\text{len(s)} − 1\\}$ mit `s[i]` auf das $i$-te Zeichen von `s` zu.\n"
   ]
  },
  {
   "cell_type": "code",
   "execution_count": 2,
   "metadata": {},
   "outputs": [
    {
     "data": {
      "text/plain": [
       "'y'"
      ]
     },
     "execution_count": 2,
     "metadata": {},
     "output_type": "execute_result"
    }
   ],
   "source": [
    "s = \"Python ist toll\"\n",
    "s[1]"
   ]
  },
  {
   "cell_type": "markdown",
   "metadata": {},
   "source": [
    "**(i)**  Geben Sie nacheinander die Zeichen in `s` aus, indem Sie `s` in einer `for`-Schleife durchlaufen."
   ]
  },
  {
   "cell_type": "code",
   "execution_count": 6,
   "metadata": {},
   "outputs": [
    {
     "name": "stdout",
     "output_type": "stream",
     "text": [
      "P\n",
      "y\n",
      "t\n",
      "h\n",
      "o\n",
      "n\n",
      " \n",
      "i\n",
      "s\n",
      "t\n",
      " \n",
      "t\n",
      "o\n",
      "l\n",
      "l\n"
     ]
    }
   ],
   "source": [
    "for i in s:\n",
    "    print(i)"
   ]
  },
  {
   "cell_type": "markdown",
   "metadata": {},
   "source": [
    "**(ii)** Geben Sie die Positionen der Leerzeichen in `s` aus, indem Sie eine geeignete `for`-Schleife und eine Fallunterscheidung verwenden.\n",
    "\n",
    "*Hinweis: Informieren Sie sich über `range`, z. B. mittels `help(range)`*."
   ]
  },
  {
   "cell_type": "code",
   "execution_count": 165,
   "metadata": {},
   "outputs": [
    {
     "name": "stdout",
     "output_type": "stream",
     "text": [
      "6\n",
      "10\n"
     ]
    }
   ],
   "source": [
    "for i in range(len(s)):\n",
    "    if s[i] == ' ':\n",
    "        print(i)"
   ]
  },
  {
   "cell_type": "markdown",
   "metadata": {},
   "source": [
    "**(iii)** Geben Sie die Positionen der Leerzeichen in `s` in umgekehrter Reihenfolge aus, indem Sie eine geeignete `for`-Schleife verwenden.\n"
   ]
  },
  {
   "cell_type": "code",
   "execution_count": 5,
   "metadata": {},
   "outputs": [
    {
     "name": "stdout",
     "output_type": "stream",
     "text": [
      "10\n",
      "6\n"
     ]
    }
   ],
   "source": [
    "for i in range(len(s)-1, -1, -1):\n",
    "    if s[i] == \" \":\n",
    "        print(i)"
   ]
  },
  {
   "cell_type": "markdown",
   "metadata": {},
   "source": [
    "**(iv)** Die Methoden `find` und `rfind` des Datentyps `str` ermöglichen das Suchen in einem String.\n",
    "\n",
    "Verwenden Sie `rfind` und eine `while`-Schleife, um die Positionen der Leerzeichen in `s` in umgekehrter Reihenfolge auszugeben.\n",
    "\n",
    "*Hinweis: Die Dokumentation zu `find` und `rfind` finden Sie unter `help(str.find)` bzw. `help(str.rfind)`.*"
   ]
  },
  {
   "cell_type": "code",
   "execution_count": 7,
   "metadata": {},
   "outputs": [
    {
     "name": "stdout",
     "output_type": "stream",
     "text": [
      "10\n",
      "6\n"
     ]
    }
   ],
   "source": [
    "i = s.rfind(\" \")\n",
    "while i != -1:\n",
    "    print(i)\n",
    "    i = s.rfind(\" \", 0, i)"
   ]
  },
  {
   "cell_type": "markdown",
   "metadata": {},
   "source": [
    "---\n",
    "\n",
    "**(b)** Erzeugen Sie mit `lst = list(s)` eine Referenz `lst` auf eine Liste die, die Buchstaben aus dem String `s` enthält."
   ]
  },
  {
   "cell_type": "code",
   "execution_count": 8,
   "metadata": {},
   "outputs": [
    {
     "data": {
      "text/plain": [
       "['P', 'y', 't', 'h', 'o', 'n', ' ', 'i', 's', 't', ' ', 't', 'o', 'l', 'l']"
      ]
     },
     "execution_count": 8,
     "metadata": {},
     "output_type": "execute_result"
    }
   ],
   "source": [
    "lst = list(s)\n",
    "lst"
   ]
  },
  {
   "cell_type": "markdown",
   "metadata": {},
   "source": [
    "**(i)**  Mit dem Operator `in` können Sie prüfen, ob eine Liste einen Wert enthält. \n",
    "\n",
    "Schreiben Sie ein Programm, das für jeden Buchstaben des Alphabets ausgibt, ob er in `s` enthalten ist. Hierfür ist das Alphabet der Kleinbuchstaben bereits gegeben. Beachten Sie auch Großbuchstaben. "
   ]
  },
  {
   "cell_type": "code",
   "execution_count": 9,
   "metadata": {},
   "outputs": [
    {
     "name": "stdout",
     "output_type": "stream",
     "text": [
      "h in lst\n",
      "i in lst\n",
      "l in lst\n",
      "n in lst\n",
      "o in lst\n",
      "p in lst\n",
      "s in lst\n",
      "t in lst\n",
      "y in lst\n"
     ]
    }
   ],
   "source": [
    "alphabet = \"abcdefghijklmnopqrstuvwxyz\"\n",
    "for b in alphabet:\n",
    "    if b in lst or b.upper() in lst:\n",
    "        print('{} in lst'.format(b))\n"
   ]
  },
  {
   "cell_type": "markdown",
   "metadata": {},
   "source": [
    "**(ii)** Mit `del lst[i]` können Sie das $i$-te Element aus der Liste `lst` entfernen.\n",
    "\n",
    "Nutzen Sie eine geeignete `for`-Schleife, um alle Leerzeichen aus der Liste `lst` zu entfernen."
   ]
  },
  {
   "cell_type": "code",
   "execution_count": 14,
   "metadata": {},
   "outputs": [
    {
     "data": {
      "text/plain": [
       "['P', 'y', 't', 'h', 'o', 'n', 'i', 's', 't', 't', 'o', 'l', 'l']"
      ]
     },
     "execution_count": 14,
     "metadata": {},
     "output_type": "execute_result"
    }
   ],
   "source": [
    "for i in range(len(lst)):\n",
    "#     print(i)\n",
    "    if lst[i] == ' ':\n",
    "        del lst[i]\n",
    "lst"
   ]
  },
  {
   "cell_type": "markdown",
   "metadata": {},
   "source": [
    "**(iii)** Lösen Sie das Problem aus (ii) mit einer `while`-Schleife."
   ]
  },
  {
   "cell_type": "code",
   "execution_count": 15,
   "metadata": {},
   "outputs": [
    {
     "data": {
      "text/plain": [
       "['P', 'y', 't', 'h', 'o', 'n', 'i', 's', 't', 't', 'o', 'l', 'l']"
      ]
     },
     "execution_count": 15,
     "metadata": {},
     "output_type": "execute_result"
    }
   ],
   "source": [
    "lst = list(s)\n",
    "i = len(lst)-1\n",
    "while i >= 0:\n",
    "    if lst[i] == \" \":\n",
    "        del lst[i]\n",
    "    else:\n",
    "        i -= 1\n",
    "lst\n"
   ]
  },
  {
   "cell_type": "markdown",
   "metadata": {},
   "source": [
    "---\n",
    "\n",
    "## Aufgabe 6 (Bonus: Pro*bier*aufgabe)##\n",
    "\n",
    "Eine nüchterne Studentin sucht ein Restaurant auf, um ein paar Bierchen zu trinken und gegebenenfalls etwas zu essen. Jede \"Runde\" entscheidet sie sich\n",
    "\n",
    "* für ein Bier, wobei ihr Alkoholpegel um 3 steigt, während sich ihre Geldreserven und der Biervorrat des Wirts jeweils um 1 verringern,\n",
    "* etwas zu essen, wobei ihr Alkoholpegel und ihre Geldreserven um 2 sinken,\n",
    "* einfach eine Pause zu machen. Dabei sinkt der Alkoholpegel um 1.\n",
    "\n",
    "Steigt der Alkoholpegel der Studentin über, sagen wir, 10, so \"bricht\" die Studentin ihren Besuch ab, genauso, wenn sie pleite ist. \n",
    "\n",
    "Es gibt nur dann eine weitere Runde, falls der Wirt Bier ausschenken kann. \n",
    "Ist das Bier alle, schließt das Restaurant und der Besuch ist beendet. \n",
    "\n",
    "Schreiben Sie ein Programm, bei welchem der Benutzer die Parameter Biervorrat und Geldreserven anfänglich festlegt, und dann in jeder Runde für die Studentin zwischen den drei obigen Optionen entscheidet. \n",
    "\n",
    "Spielen Sie nach, wie der Besuch möglicherweise verlaufen könnte."
   ]
  },
  {
   "cell_type": "code",
   "execution_count": 16,
   "metadata": {},
   "outputs": [
    {
     "name": "stdout",
     "output_type": "stream",
     "text": [
      "Biervorrat: 100\n",
      "Geldreserven: 200\n",
      "Neue Runde: Gib b für Bier, e für Essen und p für Pause ein.\n",
      "b\n",
      "Zustand nach dieser Runde: \n",
      "Biervorrat = 99 Geldreserven = 199 Alkoholpegel = 3\n",
      "Neue Runde: Gib b für Bier, e für Essen und p für Pause ein.\n",
      "b\n",
      "Zustand nach dieser Runde: \n",
      "Biervorrat = 98 Geldreserven = 198 Alkoholpegel = 6\n",
      "Neue Runde: Gib b für Bier, e für Essen und p für Pause ein.\n",
      "b\n",
      "Zustand nach dieser Runde: \n",
      "Biervorrat = 97 Geldreserven = 197 Alkoholpegel = 9\n",
      "Neue Runde: Gib b für Bier, e für Essen und p für Pause ein.\n",
      "p\n",
      "Zustand nach dieser Runde: \n",
      "Biervorrat = 97 Geldreserven = 197 Alkoholpegel = 8\n",
      "Neue Runde: Gib b für Bier, e für Essen und p für Pause ein.\n",
      "p\n",
      "Zustand nach dieser Runde: \n",
      "Biervorrat = 97 Geldreserven = 197 Alkoholpegel = 7\n",
      "Neue Runde: Gib b für Bier, e für Essen und p für Pause ein.\n",
      "b\n",
      "Zustand nach dieser Runde: \n",
      "Biervorrat = 96 Geldreserven = 196 Alkoholpegel = 10\n",
      "Neue Runde: Gib b für Bier, e für Essen und p für Pause ein.\n",
      "b\n",
      "Zustand nach dieser Runde: \n",
      "Biervorrat = 95 Geldreserven = 195 Alkoholpegel = 13\n"
     ]
    }
   ],
   "source": [
    "beer = int(input(\"Biervorrat: \"))\n",
    "money = int(input(\"Geldreserven: \"))\n",
    "level = 0\n",
    "\n",
    "while (beer > 0) and (money > 0) and (level <= 10):\n",
    "    action = input(\"Neue Runde: Gib b für Bier, e für Essen und p für Pause ein.\\n\")\n",
    "    if (action == \"b\"):\n",
    "        beer -= 1\n",
    "        money -= 1\n",
    "        level += 3\n",
    "    elif (action == \"e\"):\n",
    "        money -= 2\n",
    "        level -= 2\n",
    "    elif (action == \"p\"):\n",
    "        level -= 1\n",
    "\n",
    "    print(\"Zustand nach dieser Runde:\", \"\\nBiervorrat =\", beer, \"Geldreserven =\", money, \"Alkoholpegel =\", level)\n"
   ]
  },
  {
   "cell_type": "markdown",
   "metadata": {},
   "source": [
    "<img src=\"https://imgur.com/crAtVMC.png\" alt=\"\" width=\"500\" border=\"0\" />"
   ]
  }
 ],
 "metadata": {
  "kernelspec": {
   "display_name": "Python 3",
   "language": "python",
   "name": "python3"
  },
  "language_info": {
   "codemirror_mode": {
    "name": "ipython",
    "version": 3
   },
   "file_extension": ".py",
   "mimetype": "text/x-python",
   "name": "python",
   "nbconvert_exporter": "python",
   "pygments_lexer": "ipython3",
   "version": "3.5.3"
  }
 },
 "nbformat": 4,
 "nbformat_minor": 1
}
