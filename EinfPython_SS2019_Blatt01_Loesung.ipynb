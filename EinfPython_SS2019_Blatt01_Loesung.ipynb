{
 "cells": [
  {
   "cell_type": "markdown",
   "metadata": {},
   "source": [
    "# Einführung in Python - Übungsblatt 1"
   ]
  },
  {
   "cell_type": "markdown",
   "metadata": {},
   "source": [
    "<img src=\"https://imgur.com/oC7g1Xd.png\" alt=\"\" width=500 border=\"0\" />\n",
    "\n",
    "**Hinweise**\n",
    "- Mit `help(Ausdruck)` können Sie sich Informationen zu Ausdruck anzeigen lassen.\n",
    "- Sie können in den Zellen, die mit \"`In [ ]:`\" beginnen, Python-Code eingeben und mit **STRG+Enter** ausführen. Wenn Sie **SHIFT+Enter** drücken, wird der Code ausgeführt und die nächste Zelle wird ausgewählt. Führen Sie als Test den folgenden Code aus:"
   ]
  },
  {
   "cell_type": "code",
   "execution_count": null,
   "metadata": {},
   "outputs": [],
   "source": [
    "help(print)"
   ]
  },
  {
   "cell_type": "code",
   "execution_count": null,
   "metadata": {},
   "outputs": [],
   "source": [
    "print(\"Hallo Daniel\")"
   ]
  },
  {
   "cell_type": "markdown",
   "metadata": {},
   "source": [
    "- Dabei ist es möglich mehrere Zeilen zu programmieren, die dann nacheinander ausgeführt werden."
   ]
  },
  {
   "cell_type": "code",
   "execution_count": null,
   "metadata": {},
   "outputs": [],
   "source": [
    "a = 5\n",
    "b = 13\n",
    "print(a + b)"
   ]
  },
  {
   "cell_type": "markdown",
   "metadata": {},
   "source": [
    "- Falls die **letzte Zeile** in einer Zelle einen Wert beinhaltet, wird dieser als \"`Out [x]:`\" ausgegeben. Hierfür ist kein Aufruf von `print` notwendig."
   ]
  },
  {
   "cell_type": "code",
   "execution_count": null,
   "metadata": {},
   "outputs": [],
   "source": [
    "print(\"Variablen bleiben über Zellen hinweg erhalten:\")\n",
    "a + b"
   ]
  },
  {
   "cell_type": "markdown",
   "metadata": {},
   "source": [
    "---\n",
    "\n",
    "## Aufgabe 1 (Arithmetische Operatoren und Ausdrücke)\n",
    "**(a)**\n",
    "Welche Ausgaben liefern die folgenden Ausdrücke und welche Rechenoperationen wurden verwendet? "
   ]
  },
  {
   "cell_type": "code",
   "execution_count": null,
   "metadata": {},
   "outputs": [],
   "source": [
    "9 * 5"
   ]
  },
  {
   "cell_type": "code",
   "execution_count": null,
   "metadata": {},
   "outputs": [],
   "source": [
    "9 / 2"
   ]
  },
  {
   "cell_type": "code",
   "execution_count": null,
   "metadata": {},
   "outputs": [],
   "source": [
    "9 // 2"
   ]
  },
  {
   "cell_type": "code",
   "execution_count": null,
   "metadata": {},
   "outputs": [],
   "source": [
    "-9 // 2"
   ]
  },
  {
   "cell_type": "code",
   "execution_count": null,
   "metadata": {},
   "outputs": [],
   "source": [
    "35 % 6"
   ]
  },
  {
   "cell_type": "code",
   "execution_count": null,
   "metadata": {},
   "outputs": [],
   "source": [
    "2**3"
   ]
  },
  {
   "cell_type": "markdown",
   "metadata": {},
   "source": [
    "<font color=\"DodgerBlue\">\n",
    "\n",
    "`+`       | `-`         | `*`            | `/`      | `//`           | `%`     | `**`\n",
    ":-------: | :---------: | :------------: | :------: | :------------: | :-----: | :-------:\n",
    "Addition  | Subtraktion | Multiplikation | Division | Floor Division | Modulo  | Potenzieren\n",
    "\n",
    "Bemerkung: Floor Division bedeutet Division mit Abrunden auf die nächstkleinere ganze Zahl.\n",
    "Auswertungsreihenfolge wie üblich (Klammer vor Potenz vor Punkt vor Strich, wobei Modulo als Punkt zählt).\n",
    "</font><br>\n",
    "\n",
    "**(b)** Gegeben: `7 * 2 ** 3 * 3 + 5 * 8 / 2 ** 2 - 32.1 // 8 + 10 % 3 * 2`.\n",
    "\n",
    "In welcher Reihenfolge werden die Operatoren angewendet? Klammern Sie den Ausdruck so, dass die Operatorrangfolge offensichtlich wird."
   ]
  },
  {
   "cell_type": "code",
   "execution_count": null,
   "metadata": {},
   "outputs": [],
   "source": [
    "((7 * (2 ** 3)) * 3) + ((5 * 8) / (2 ** 2)) - (32.1 // 8) + ((10 % 3) * 2)\n"
   ]
  },
  {
   "cell_type": "markdown",
   "metadata": {},
   "source": [
    "---\n",
    "\n",
    "## Aufgabe 2 (Datentypen)\n",
    "\n",
    "**(a)** Jede Instanz `inst` besitzt einen Datentyp, der sich mit `type(inst)` ermitteln lässt, z.B. erzeugt `type(1)` die Ausgabe `<class 'int'>`.\n",
    "\n",
    "**(i)** Untersuchen Sie die Ausgabe von `type` für die Parameter `1.0`, `1+3`, `1+3.0`, `\"1\"`, `True`, `[1,2,3]`, `{1:100,2:200}`, `{1,2,3}` und `print`.\n"
   ]
  },
  {
   "cell_type": "code",
   "execution_count": null,
   "metadata": {},
   "outputs": [],
   "source": [
    "type(1.0)\n"
   ]
  },
  {
   "cell_type": "code",
   "execution_count": null,
   "metadata": {},
   "outputs": [],
   "source": [
    "type(1+3)\n"
   ]
  },
  {
   "cell_type": "code",
   "execution_count": null,
   "metadata": {},
   "outputs": [],
   "source": [
    "type(1+3.0)\n"
   ]
  },
  {
   "cell_type": "code",
   "execution_count": null,
   "metadata": {},
   "outputs": [],
   "source": [
    "type(\"1\")\n"
   ]
  },
  {
   "cell_type": "code",
   "execution_count": null,
   "metadata": {},
   "outputs": [],
   "source": [
    "type(True)\n"
   ]
  },
  {
   "cell_type": "code",
   "execution_count": null,
   "metadata": {},
   "outputs": [],
   "source": [
    "type([1,2,3])\n"
   ]
  },
  {
   "cell_type": "code",
   "execution_count": null,
   "metadata": {},
   "outputs": [],
   "source": [
    "type({1:100,2:200})\n"
   ]
  },
  {
   "cell_type": "code",
   "execution_count": null,
   "metadata": {},
   "outputs": [],
   "source": [
    "type({1,2,3})\n"
   ]
  },
  {
   "cell_type": "code",
   "execution_count": null,
   "metadata": {},
   "outputs": [],
   "source": [
    "type(print)\n"
   ]
  },
  {
   "cell_type": "markdown",
   "metadata": {},
   "source": [
    "---\n",
    "\n",
    "**(ii)** Interpretieren Sie die unterschiedlichen Ausgaben von ```1+3```, ```1+3.0```, ```\"1\"+\"3\"```, ```1+\"3\"```, ```1+True``` und ```1+False```.\n"
   ]
  },
  {
   "cell_type": "code",
   "execution_count": null,
   "metadata": {},
   "outputs": [],
   "source": [
    "1+3 # Addition zweier Integers ergibt einen Integer\n"
   ]
  },
  {
   "cell_type": "code",
   "execution_count": null,
   "metadata": {},
   "outputs": [],
   "source": [
    "1+3.0 # Addition von Integer und Float ergibt einen Float\n"
   ]
  },
  {
   "cell_type": "code",
   "execution_count": null,
   "metadata": {},
   "outputs": [],
   "source": [
    "\"1\"+\"3\" # Konkatenation zweier Strings\n"
   ]
  },
  {
   "cell_type": "code",
   "execution_count": null,
   "metadata": {
    "scrolled": true
   },
   "outputs": [],
   "source": [
    "1+\"3\" # Exception, da Integer und String in Python nicht addiert werden können\n"
   ]
  },
  {
   "cell_type": "code",
   "execution_count": null,
   "metadata": {},
   "outputs": [],
   "source": [
    "1+True # True wird als 1 interpretiert\n"
   ]
  },
  {
   "cell_type": "code",
   "execution_count": null,
   "metadata": {},
   "outputs": [],
   "source": [
    "1+False # False wird als 0 interpretiert\n"
   ]
  },
  {
   "cell_type": "markdown",
   "metadata": {},
   "source": [
    "---\n",
    "\n",
    "**(iii)** Mit `int`, `float`, `str` können Sie Instanzen in Ganz- bzw. Gleitkommazahlen oder Strings umwandeln.\n",
    "\n",
    "Erweitern Sie die Ausdrücke in (ii) um die notwendigen Umwandlungen, sodass alle Ausdrücke außer `1+True` und `1+False` die Ausgabe ```4.0``` bzw. ```4``` bzw. ```13``` erzeugen."
   ]
  },
  {
   "cell_type": "code",
   "execution_count": null,
   "metadata": {},
   "outputs": [],
   "source": [
    "1+3\n"
   ]
  },
  {
   "cell_type": "code",
   "execution_count": null,
   "metadata": {},
   "outputs": [],
   "source": [
    "1+3.0\n"
   ]
  },
  {
   "cell_type": "code",
   "execution_count": null,
   "metadata": {},
   "outputs": [],
   "source": [
    "int(\"1\"+\"3\") # liefert 13\n",
    "int(\"1\")+int(\"3\") # liefert 4\n"
   ]
  },
  {
   "cell_type": "code",
   "execution_count": null,
   "metadata": {},
   "outputs": [],
   "source": [
    "1+int(\"3\") # liefert 4\n",
    "int(str(1) + \"3\") # liefert 13\n"
   ]
  },
  {
   "cell_type": "markdown",
   "metadata": {},
   "source": [
    "---\n",
    "\n",
    "**(b)** Wie ändert sich die Ausgabe für den Ausdruck in Aufgabe 1 (b), wenn Sie den Operator ```/``` durch ```//``` und ```32.1``` durch ```32``` ersetzen? Erklären Sie!"
   ]
  },
  {
   "cell_type": "code",
   "execution_count": null,
   "metadata": {},
   "outputs": [],
   "source": [
    "7 * 2 ** 3 * 3 + 5 * 8 // 2 ** 2 - 32 // 8 + 10 % 3 * 2\n"
   ]
  },
  {
   "cell_type": "markdown",
   "metadata": {},
   "source": [
    "<font color=\"DodgerBlue\">\n",
    "Das Ergebnis ist dieselbe Zahl (nur jetzt als Integer), denn:\n",
    "- es gilt: $5\\cdot 8=40$ ist durch $2^2=4$ teilbar und somit liefern `8/2` und `8//2` das gleiche Ergebnis.\n",
    "- außerdem ist $\\;\\frac{32.1}{8} = 4.0125\\;$ und $\\;\\frac{32}{8} = 4\\;$. Somit liefert der `//`-Operator in beiden Fällen das gleiche Ergebnis (das Ergebnis wird bei `//` immer abgerundet).\n",
    "</font><br>\n",
    "\n",
    "---\n",
    "\n",
    "## Aufgabe 3 (Die eingebauten Funktionen ```print``` und ```input```)\n",
    "\n",
    "**(a)** Mit der Funktion `print` können Werte auf dem Bildschirm ausgegeben werden. \n",
    "Dabei können `print` mehrere Werte durch Kommata getrennt übergeben werden, wie z.B."
   ]
  },
  {
   "cell_type": "code",
   "execution_count": null,
   "metadata": {},
   "outputs": [],
   "source": [
    "print(\"Ich bin\", 28, \"Jahre alt\")"
   ]
  },
  {
   "cell_type": "markdown",
   "metadata": {},
   "source": [
    "Machen Sie sich mit der Funktion ```print``` vertraut. \n",
    "Geben Sie dabei insbesondere Strings, Gleitkommazahlen, Ganzzahlen und Listen aus.\n",
    "Schauen Sie sich außerdem die Hilfe zu ```print``` mittels ```help(print)``` an. (Sie müssen sie nicht vollständig lesen!)"
   ]
  },
  {
   "cell_type": "code",
   "execution_count": null,
   "metadata": {},
   "outputs": [],
   "source": []
  },
  {
   "cell_type": "markdown",
   "metadata": {},
   "source": [
    "**(b)** Führen Sie folgenden Zeilen der Reihe nach aus.\n",
    "Welche Bedeutung haben die Ausdrücke hinter `sep` bzw. `end`?"
   ]
  },
  {
   "cell_type": "code",
   "execution_count": null,
   "metadata": {},
   "outputs": [],
   "source": [
    "print(\"Hallo\", \"ich\", \"bin\", 20, \"Jahre\", \"alt\", sep=\"***\")"
   ]
  },
  {
   "cell_type": "code",
   "execution_count": null,
   "metadata": {},
   "outputs": [],
   "source": [
    "print(\"Freut mich\", end=\"\")\n",
    "print(\"fuer dich!\")"
   ]
  },
  {
   "cell_type": "code",
   "execution_count": null,
   "metadata": {},
   "outputs": [],
   "source": [
    "print(\"Ich will\", \"eine eigene\", \"Zeile!\", sep=\"-\", end=\"Ende\")"
   ]
  },
  {
   "cell_type": "markdown",
   "metadata": {},
   "source": [
    "<font color=\"DodgerBlue\">  \n",
    "`sep` steht für den Separator, also für das Zeichen zwischen den einzelnen Argumenten. Der default-Wert von `sep` ist `\" \"` (Leerzeichen).  \n",
    "Der Ausdruck hinter `end` wird an das Ende der auszugebenden Zeichenkette angefügt. Der default-Wert von `end` ist `\"\\n\"` (Zeilenumbruch).\n",
    "</font><br>\n",
    "\n",
    "---\n",
    "\n",
    "**(c)** Die eingebaute Funktion `input` erlaubt es, Zeichenketten vom Benutzer über die Tastatur einzulesen.\n",
    "Dabei kann `input` als Parameter einen String mit einer Eingabeaufforderung übergeben werden.\n",
    "\n",
    "Lesen Sie mithilfe von `input` das Geburtsjahr des Benutzers ein und referenzieren Sie es mit der Referenz `jahr`.\n",
    "Geben Sie anschließend mit `print` das Jahr aus, in dem der Benutzer 100 Jahre alt wird.\n",
    "\n",
    "Erklären Sie die Ausgabe von `type(jahr)` unmittelbar nach dem Einlesen."
   ]
  },
  {
   "cell_type": "code",
   "execution_count": null,
   "metadata": {},
   "outputs": [],
   "source": [
    "jahr = input(\"Geburtsjahr:\")\n",
    "print(type(jahr))\n",
    "print(int(jahr) + 100)\n"
   ]
  },
  {
   "cell_type": "markdown",
   "metadata": {},
   "source": [
    "<font color=\"DodgerBlue\">\n",
    "Mit `input` wird _immer_ ein String eingelesen, man muss also anschließend die Methoden `int(), float(), etc.` verwenden, um diesen String in den gewünschten Typ zu konvertieren\n",
    "</font><br>\n",
    "\n",
    "---\n",
    "\n",
    "## Aufgabe 4 (Vergleichsoperatoren) ##\n",
    "\n",
    "Mithilfe von `<`, `>`, `<=`, `>=`, `==` und `!=` können Instanzen anhand ihrer Werte\n",
    "verglichen werden. \n",
    "\n",
    "Untersuchen Sie das Verhalten von `==` und `<` für alle Zweierkombinationen von `1`, `1.0`, `2.0`, `\"1\"` und `\"2\"`. "
   ]
  },
  {
   "cell_type": "code",
   "execution_count": null,
   "metadata": {},
   "outputs": [],
   "source": []
  },
  {
   "cell_type": "markdown",
   "metadata": {},
   "source": [
    "Was fällt Ihnen auf?\n",
    "\n",
    "<font color=\"DodgerBlue\">\n",
    "1. `==` prüft auf Gleichheit der Werte, nicht auf Objektidentität (deswegen wird z.B. nicht zwischen `int` und `float` unterschieden).\n",
    "2. `<` kann nur zwischen zwei Objekten verwendet werden, für die eine gemeinsame Ordnungsrelation definiert ist. Standardmäßig ist ein Integer nicht mit einem String bezüglich `<` vergleichbar.\n",
    "</font><br>\n",
    "\n",
    "Testen Sie das Verhalten von `<` für weitere Strings. Betrachten Sie nebenbei Groß- und Kleinschreibung."
   ]
  },
  {
   "cell_type": "code",
   "execution_count": null,
   "metadata": {},
   "outputs": [],
   "source": [
    "print(\"A\" < \"a\")\n",
    "print(\"B\" < \"a\")\n",
    "print(\"a\" < \"b\")\n"
   ]
  },
  {
   "cell_type": "markdown",
   "metadata": {},
   "source": [
    "Wann ist die Bedingung `s1 < s2` für zwei Strings `s1` und `s2` erfüllt?\n",
    "\n",
    "<font color=\"DodgerBlue\">\n",
    "Wenn `s1` bezüglich alphabetischer Sortierung vor `s2` kommt, wobei Großbuchstaben immer \"kleiner\" als Kleinbuchstaben sind (Hinweis: Unicode-Tabelle und eingbaute Funktion `ord`).\n"
   ]
  },
  {
   "cell_type": "markdown",
   "metadata": {},
   "source": [
    "---\n",
    "\n",
    "## Aufgabe 5 (Kontrollstrukturen, Datentypen `str` und `list`) ##\n",
    "\n",
    "**(a)** Erzeugen Sie eine Referenz `s` auf den String `\"Python ist toll\"`.  \n",
    "Greifen Sie für eine Zahl $i \\in \\{0,\\dots , \\text{len(s)} − 1\\}$ mit `s[i]` auf das $i$-te Zeichen von `s` zu.\n"
   ]
  },
  {
   "cell_type": "code",
   "execution_count": null,
   "metadata": {},
   "outputs": [],
   "source": [
    "s = \"Python ist toll\"\n",
    "s[3]\n"
   ]
  },
  {
   "cell_type": "markdown",
   "metadata": {},
   "source": [
    "**(i)**  Geben Sie nacheinander die Zeichen in `s` aus, indem Sie `s` in einer `for`-Schleife durchlaufen."
   ]
  },
  {
   "cell_type": "code",
   "execution_count": null,
   "metadata": {},
   "outputs": [],
   "source": [
    "for c in s:\n",
    "    print(c)\n"
   ]
  },
  {
   "cell_type": "markdown",
   "metadata": {},
   "source": [
    "**(ii)** Geben Sie die Positionen der Leerzeichen in `s` aus, indem Sie eine geeignete `for`-Schleife und eine Fallunterscheidung verwenden.\n",
    "\n",
    "*Hinweis: Informieren Sie sich über `range`, z. B. mittels `help(range)`*."
   ]
  },
  {
   "cell_type": "code",
   "execution_count": null,
   "metadata": {},
   "outputs": [],
   "source": [
    "for i in range(len(s)):\n",
    "    if s[i] == \" \":\n",
    "        print(i)\n"
   ]
  },
  {
   "cell_type": "markdown",
   "metadata": {},
   "source": [
    "**(iii)** Geben Sie die Positionen der Leerzeichen in `s` in umgekehrter Reihenfolge aus, indem Sie eine geeignete `for`-Schleife verwenden.\n"
   ]
  },
  {
   "cell_type": "code",
   "execution_count": null,
   "metadata": {},
   "outputs": [],
   "source": [
    "for i in range(len(s)-1, -1, -1):\n",
    "    if s[i] == \" \":\n",
    "        print(i)\n",
    "\n",
    "# oder:\n",
    "for i in range(len(s)):\n",
    "    if s[len(s)-1-i] == \" \":\n",
    "        print(len(s)-1-i)\n"
   ]
  },
  {
   "cell_type": "markdown",
   "metadata": {},
   "source": [
    "**(iv)** Die Methoden `find` und `rfind` des Datentyps `str` ermöglichen das Suchen in einem String.\n",
    "\n",
    "Verwenden Sie `rfind` und eine `while`-Schleife, um die Positionen der Leerzeichen in `s` in umgekehrter Reihenfolge auszugeben.\n",
    "\n",
    "*Hinweis: Die Dokumentation zu `find` und `rfind` finden Sie unter `help(str.find)` bzw. `help(str.rfind)`.*"
   ]
  },
  {
   "cell_type": "code",
   "execution_count": null,
   "metadata": {},
   "outputs": [],
   "source": [
    "i = s.rfind(\" \")\n",
    "while i != -1:\n",
    "    print(i)\n",
    "    i = s.rfind(\" \", 0, i)\n"
   ]
  },
  {
   "cell_type": "markdown",
   "metadata": {},
   "source": [
    "---\n",
    "\n",
    "**(b)** Erzeugen Sie mit `lst = list(s)` eine Referenz `lst` auf eine Liste die, die Buchstaben aus dem String `s` enthält."
   ]
  },
  {
   "cell_type": "code",
   "execution_count": null,
   "metadata": {},
   "outputs": [],
   "source": [
    "lst = list(s)\n",
    "lst\n"
   ]
  },
  {
   "cell_type": "markdown",
   "metadata": {},
   "source": [
    "**(i)**  Mit dem Operator `in` können Sie prüfen, ob eine Liste einen Wert enthält. \n",
    "\n",
    "Schreiben Sie ein Programm, das für jeden Buchstaben des Alphabets ausgibt, ob er in `s` enthalten ist. Hierfür ist das Alphabet der Kleinbuchstaben bereits gegeben. Beachten Sie auch Großbuchstaben. "
   ]
  },
  {
   "cell_type": "code",
   "execution_count": null,
   "metadata": {},
   "outputs": [],
   "source": [
    "alphabet = \"abcdefghijklmnopqrstuvwxyz\"\n",
    "for b in alphabet:\n",
    "    if b in lst or b.upper() in lst:\n",
    "        print(b, \"ist in s enthalten\")\n",
    "\n",
    "# Bemerkung: im Modul `string` sind einige Zeichenklassen bereits vordefiniert:\n",
    "import string\n",
    "print(string.ascii_lowercase, string.ascii_letters, string.digits, sep=\"\\n\")\n"
   ]
  },
  {
   "cell_type": "markdown",
   "metadata": {},
   "source": [
    "**(ii)** Mit `del lst[i]` können Sie das $i$-te Element aus der Liste `lst` entfernen.\n",
    "\n",
    "Nutzen Sie eine geeignete `for`-Schleife, um alle Leerzeichen aus der Liste `lst` zu entfernen."
   ]
  },
  {
   "cell_type": "code",
   "execution_count": null,
   "metadata": {},
   "outputs": [],
   "source": [
    "for i in range(len(lst)-1, -1, -1):\n",
    "    if lst[i] == \" \":\n",
    "        del lst[i]\n",
    "lst\n"
   ]
  },
  {
   "cell_type": "markdown",
   "metadata": {},
   "source": [
    "**(iii)** Lösen Sie das Problem aus (ii) mit einer `while`-Schleife."
   ]
  },
  {
   "cell_type": "code",
   "execution_count": null,
   "metadata": {},
   "outputs": [],
   "source": [
    "lst = list(s)\n",
    "i = len(lst)-1\n",
    "while i >= 0:\n",
    "    if lst[i] == \" \":\n",
    "        del lst[i]\n",
    "    else:\n",
    "        i -= 1\n",
    "lst\n"
   ]
  },
  {
   "cell_type": "markdown",
   "metadata": {},
   "source": [
    "---\n",
    "\n",
    "## Aufgabe 6 (Bonus: Pro*bier*aufgabe)##\n",
    "\n",
    "Eine nüchterne Studentin sucht ein Restaurant auf, um ein paar Bierchen zu trinken und gegebenenfalls etwas zu essen. Jede \"Runde\" entscheidet sie sich\n",
    "\n",
    "* für ein Bier, wobei ihr Alkoholpegel um 3 steigt, während sich ihre Geldreserven und der Biervorrat des Wirts jeweils um 1 verringern,\n",
    "* etwas zu essen, wobei ihr Alkoholpegel und ihre Geldreserven um 2 sinken,\n",
    "* einfach eine Pause zu machen. Dabei sinkt der Alkoholpegel um 1.\n",
    "\n",
    "Steigt der Alkoholpegel der Studentin über, sagen wir, 10, so \"bricht\" die Studentin ihren Besuch ab, genauso, wenn sie pleite ist. \n",
    "\n",
    "Es gibt nur dann eine weitere Runde, falls der Wirt Bier ausschenken kann. \n",
    "Ist das Bier alle, schließt das Restaurant und der Besuch ist beendet. \n",
    "\n",
    "Schreiben Sie ein Programm, bei welchem der Benutzer die Parameter Biervorrat und Geldreserven anfänglich festlegt, und dann in jeder Runde für die Studentin zwischen den drei obigen Optionen entscheidet. \n",
    "\n",
    "Spielen Sie nach, wie der Besuch möglicherweise verlaufen könnte."
   ]
  },
  {
   "cell_type": "code",
   "execution_count": null,
   "metadata": {},
   "outputs": [],
   "source": [
    "beer = int(input(\"Biervorrat: \"))\n",
    "money = int(input(\"Geldreserven: \"))\n",
    "level = 0\n",
    "\n",
    "while (beer > 0) and (money > 0) and (level <= 10):\n",
    "    action = input(\"Neue Runde: Gib b für Bier, e für Essen und p für Pause ein.\\n\")\n",
    "    if (action == \"b\"):\n",
    "        beer -= 1\n",
    "        money -= 1\n",
    "        level += 3\n",
    "    elif (action == \"e\"):\n",
    "        money -= 2\n",
    "        level -= 2\n",
    "    elif (action == \"p\"):\n",
    "        level -= 1\n",
    "\n",
    "    print(\"Zustand nach dieser Runde:\", \"\\nBiervorrat =\", beer, \"Geldreserven =\", money, \"Alkoholpegel =\", level)\n"
   ]
  },
  {
   "cell_type": "markdown",
   "metadata": {},
   "source": [
    "<img src=\"https://imgur.com/crAtVMC.png\" alt=\"\" width=\"500\" border=\"0\" />"
   ]
  }
 ],
 "metadata": {
  "kernelspec": {
   "display_name": "Python 3",
   "language": "python",
   "name": "python3"
  },
  "language_info": {
   "codemirror_mode": {
    "name": "ipython",
    "version": 3
   },
   "file_extension": ".py",
   "mimetype": "text/x-python",
   "name": "python",
   "nbconvert_exporter": "python",
   "pygments_lexer": "ipython3",
   "version": "3.5.3"
  }
 },
 "nbformat": 4,
 "nbformat_minor": 1
}
