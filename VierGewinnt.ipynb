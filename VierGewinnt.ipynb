{
 "cells": [
  {
   "cell_type": "markdown",
   "metadata": {},
   "source": [
    "## Vier Gewinnt\n",
    "\n",
    "Der folgende (relativ unleserliche Code) implementiert eine einfache Variante von Vier Gewinnt, die man im Browser bzw. in der Konsole spielen kann."
   ]
  },
  {
   "cell_type": "code",
   "execution_count": null,
   "metadata": {},
   "outputs": [],
   "source": [
    "# Anzahl der Zeilen bzw. Spaltern des Felds\n",
    "Z, S = 6, 7\n",
    "# Anzahl aufeinanderfolgender gleicher \"Chips\" zum gewinnen\n",
    "gewinnt = 4\n",
    "# Spielfeld\n",
    "feld = []\n",
    "# initialisiere als leeres Feld\n",
    "for i in range(Z):\n",
    "    feld += [ [\" \"]*S ]\n",
    "\n",
    "max_runden = Z*S\n",
    "spieler_namen = [\"O\", \"X\"] \n",
    "\n",
    "for r in range(max_runden):\n",
    "    spieler = spieler_namen[r % 2]\n",
    "\n",
    "    spalte = -1 \n",
    "    while spalte == -1:\n",
    "        # Feld printen\n",
    "        print()\n",
    "        print(*range(S), sep=\" | \")\n",
    "        print(\"--+-\" * Z + \"-\")\n",
    "        for zeile in range(Z):\n",
    "            print(*feld[zeile], sep=\" | \")\n",
    "\n",
    "        print(\"Zug von Spieler\", spieler, end=\": \")\n",
    "        versuch = int(input())\n",
    "        # oberste Zeile der ausgewaehlten Spalte frei?\n",
    "        if feld[0][versuch] == \" \":\n",
    "            spalte = versuch\n",
    "        else: \n",
    "            print(\"Zug nicht moeglich!\") \n",
    "\n",
    "    # finde die \"unterste\" Zeile, in der noch nichts steht\n",
    "    zeile = Z-1\n",
    "    while feld[zeile][spalte] != \" \":\n",
    "        zeile -= 1\n",
    "    # platziere den \"Chip\"\n",
    "    feld[zeile][spalte] = spieler\n",
    "\n",
    "    #===============================================================================\n",
    "    # Teste, ob gewonnen\n",
    "    #===============================================================================\n",
    "    max_c = 0\n",
    "    # Teste aktuelle Zeile\n",
    "    c = 0 # Gewinnzaehler \n",
    "    for s in range(S):\n",
    "        c = (c+1 if feld[zeile][s] == spieler else 0) \n",
    "        max_c = max(c, max_c)\n",
    "\n",
    "    # Teste aktuelle Spalte\n",
    "    c = 0 # Gewinnzaehler\n",
    "    for z in range(Z):\n",
    "        c = (c+1 if feld[z][spalte] == spieler else 0) \n",
    "        max_c = max(c, max_c)\n",
    "\n",
    "    # Teste aktuelle Diagonale\n",
    "    c = 0 # Gewinnzaehler\n",
    "    for i in range(-min(zeile, spalte), min(Z-zeile, S-spalte)):\n",
    "        c = (c+1 if feld[zeile+i][spalte+i] == spieler else 0)\n",
    "        max_c = max(c, max_c)\n",
    "\n",
    "    # Teste aktuelle Gegendiagonale\n",
    "    c = 0 # Gewinnzaehler\n",
    "    for i in range(-min(Z-zeile-1, spalte), min(zeile+1, S-spalte)):\n",
    "        c = (c+1 if feld[zeile-i][spalte+i] == spieler else 0)\n",
    "        max_c = max(c, max_c)\n",
    "\n",
    "    if max_c >= gewinnt:\n",
    "        print(\"Tadaaaa: Spieler\", spieler, \"gewinnt!\")\n",
    "        break\n",
    "\n",
    "# Feld printen\n",
    "print(*range(S), sep=\" | \")\n",
    "print(\"--+-\" * Z + \"-\")\n",
    "for zeile in range(Z):\n",
    "    print(*feld[zeile], sep=\" | \")"
   ]
  },
  {
   "cell_type": "markdown",
   "metadata": {},
   "source": [
    "### a)\n",
    "Spielen ein paar Runden mit Ihrem Tischnachbarn und lesen Sie den Code, um ein Gefühl für das Programm zu bekommen."
   ]
  },
  {
   "cell_type": "markdown",
   "metadata": {},
   "source": [
    "### b)\n",
    "Erhöhen Sie die Lesbarkeit des Programms, indem Sie geeignete Funktionen einführen. Überlegen Sie sich dazu sinnvolle Funktionsnamen und -schnittstellen."
   ]
  }
 ],
 "metadata": {
  "kernelspec": {
   "display_name": "Python 3",
   "language": "python",
   "name": "python3"
  },
  "language_info": {
   "codemirror_mode": {
    "name": "ipython",
    "version": 3
   },
   "file_extension": ".py",
   "mimetype": "text/x-python",
   "name": "python",
   "nbconvert_exporter": "python",
   "pygments_lexer": "ipython3",
   "version": "3.7.2"
  }
 },
 "nbformat": 4,
 "nbformat_minor": 2
}
