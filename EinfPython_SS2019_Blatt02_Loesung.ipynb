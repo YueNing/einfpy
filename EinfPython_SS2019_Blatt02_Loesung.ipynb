{
 "cells": [
  {
   "cell_type": "markdown",
   "metadata": {},
   "source": [
    "# Einführung in Python - Übungsblatt 2\n",
    "\n",
    "---\n",
    "\n",
    "<img src=\"https://imgur.com/csPsMyi.png\" alt=\"\" width=600 border=\"0\" />"
   ]
  },
  {
   "cell_type": "markdown",
   "metadata": {},
   "source": [
    "## Aufgabe 7 (Sequenzielle Datentypen, Slicing)\n",
    ">Python kennt eine Reihe von *sequentiellen Datentypen*, die sich dadurch auszeichnen, dass sie eine geordnete Folge von ggf. verschiedenartigen Instanzen verwalten können. Beispiele für solche Sequenzen sind Strings und Listen.\n",
    "\n",
    ">Auf Instanzen sequentieller Datentypen gibt es eine Reihe von Operationen, von denen wir hier einige erarbeiten wollen.\n",
    "\n",
    "**a)** Erzeugen Sie eine Liste `lst`, welche die Zahlen von `0` bis `9` enthält. Was liefern die folgenden Ausdrücke?\n",
    "\n",
    "* `lst[1]`\n",
    "* `lst[0]`\n",
    "* `lst[-1]`\n",
    "* `lst[-2]`\n",
    "* `lst[-len(lst)]`\n",
    "* `lst[-12]`\n",
    "* `lst[11]`"
   ]
  },
  {
   "cell_type": "code",
   "execution_count": null,
   "metadata": {
    "scrolled": true
   },
   "outputs": [],
   "source": [
    "lst = [0, 1, 2, 3, 4, 5, 6, 7, 8, 9]\n",
    "# alternativ auch: lst = list(range(10))\n",
    "lst[1]"
   ]
  },
  {
   "cell_type": "code",
   "execution_count": null,
   "metadata": {},
   "outputs": [],
   "source": [
    "lst[0]"
   ]
  },
  {
   "cell_type": "code",
   "execution_count": null,
   "metadata": {},
   "outputs": [],
   "source": [
    "lst[-1]"
   ]
  },
  {
   "cell_type": "code",
   "execution_count": null,
   "metadata": {},
   "outputs": [],
   "source": [
    "lst[-2]"
   ]
  },
  {
   "cell_type": "code",
   "execution_count": null,
   "metadata": {},
   "outputs": [],
   "source": [
    "lst[-len(lst)]"
   ]
  },
  {
   "cell_type": "code",
   "execution_count": null,
   "metadata": {},
   "outputs": [],
   "source": [
    "lst[-12]"
   ]
  },
  {
   "cell_type": "code",
   "execution_count": null,
   "metadata": {},
   "outputs": [],
   "source": [
    "lst[11]"
   ]
  },
  {
   "cell_type": "markdown",
   "metadata": {},
   "source": [
    "Veranschaulichen Sie die Indizierung mit positiven und negativen Indizes mit einer Zeichnung.\n",
    "\n",
    "<font color=\"DodgerBlue\">\n",
    "Beispiel einer Liste, die 10 Strings enthält\n",
    "\n",
    "Liste =          | [ \"e1\", | \"e2\", | \"e3\", | \"e4\", | \"e5\", | \"e6\", | \"e7\", | \"e8\", | \"e9\", | \"e10\"]\n",
    ":--------------: | :-----: | :---: | :---: | :---: | :---: | :---: | :---: | :---: | :---: | :---: \n",
    "positive Indizes | 0       | 1     | 2     | 3     | 4     | 5     | 6     | 7     | 8     | 9\n",
    "negative Indices | -10     | -9    | -8    | -7    | -6    | -5    | -4    | -3    | -2    | -1\n",
    "\n",
    "</font><br>"
   ]
  },
  {
   "cell_type": "markdown",
   "metadata": {},
   "source": [
    "\n",
    "---\n",
    "\n",
    "**b)** Was liefern die folgenden Eingaben?\n",
    "* `lst[2:5]`\n",
    "* `lst[2:-3]`\n",
    "* `lst[7:2]`\n",
    "* `lst[7:2:-1]`\n",
    "* `lst[7:2:-3]`\n",
    "* `lst[-2:-3]`\n",
    "* `lst[-5:-3]`"
   ]
  },
  {
   "cell_type": "code",
   "execution_count": null,
   "metadata": {
    "scrolled": true
   },
   "outputs": [],
   "source": [
    "lst[2:5]"
   ]
  },
  {
   "cell_type": "code",
   "execution_count": null,
   "metadata": {},
   "outputs": [],
   "source": [
    "lst[2:-3]"
   ]
  },
  {
   "cell_type": "code",
   "execution_count": null,
   "metadata": {},
   "outputs": [],
   "source": [
    "lst[7:2]"
   ]
  },
  {
   "cell_type": "code",
   "execution_count": null,
   "metadata": {},
   "outputs": [],
   "source": [
    "lst[7:2:-1]"
   ]
  },
  {
   "cell_type": "code",
   "execution_count": null,
   "metadata": {},
   "outputs": [],
   "source": [
    "lst[7:2:-3]"
   ]
  },
  {
   "cell_type": "code",
   "execution_count": null,
   "metadata": {},
   "outputs": [],
   "source": [
    "lst[-2:-3]"
   ]
  },
  {
   "cell_type": "code",
   "execution_count": null,
   "metadata": {
    "scrolled": false
   },
   "outputs": [],
   "source": [
    "lst[-5:-3]"
   ]
  },
  {
   "cell_type": "markdown",
   "metadata": {},
   "source": [
    "Diese Art des Zugriffs auf Teile einer Sequenz wird *Slicing* genannt. Machen Sie sich die Bedeutung der drei Argumente des Slicings klar.\n",
    "\n",
    "_Bemerkung_:  \n",
    "Sie können Slices auch mit `slice` erzeugen, z.B. ist `lst[slice(2, 5)]` äquivalent zu `lst[2:5]`.  \n",
    "Beim Slicing wird der angegebene Listenausschnitt kopiert, d.h. Änderungen an diesem, wie z.B. `lst[2:5][0] = 42`, verändern die ursprüngliche Liste `lst` nicht.\n",
    "\n",
    "<font color=\"DodgerBlue\">  \n",
    "Das erste Argument steht für den Startindex (inklusiv), das zweite für den Endindex (exklusiv) und das dritte für die Schrittweite. Die Syntax ist also: **lst[start:stop:step]** (ähnlich wie bei range()).\n",
    "\n",
    "Hierbei können die Argumente auch weggelassen werden, wodurch jeweils der entsprechende default-Wert verwendet wird: `start=0`, `stop=len(lst)` und `step=1`.  \n",
    "Zum Beispiel liefert `lst[2::2]` jedes zweite Element der Liste lst ab dem Index 2 (also dem dritten Element).\n",
    "\n",
    "Negative Werte von start oder end, wie z.B. `start=-a` (wobei `a` positiv ist), entsprechen dann jeweils `start=len(lst)-a`.  \n",
    "Also ist z.B.: `lst[-3:-2] = lst[len(lst)-3:len(lst)-2] = lst[7:8]`.\n",
    "</font><br>\n",
    "\n",
    "---\n",
    "\n",
    "**c)** Nun erzeugen Sie einen String `name` mit Ihrem Vor- und Nachnamen und führen Sie die Teilaufgaben a) und b) mit `name` anstelle von `lst` aus."
   ]
  },
  {
   "cell_type": "code",
   "execution_count": null,
   "metadata": {},
   "outputs": [],
   "source": [
    "name = \"Daniel Weiß\""
   ]
  },
  {
   "cell_type": "code",
   "execution_count": null,
   "metadata": {},
   "outputs": [],
   "source": [
    "# Zugriff per Index\n",
    "name[0]"
   ]
  },
  {
   "cell_type": "code",
   "execution_count": null,
   "metadata": {},
   "outputs": [],
   "source": [
    "# Slicing\n",
    "name[2:9:2]"
   ]
  },
  {
   "cell_type": "markdown",
   "metadata": {},
   "source": [
    "**d)** Alle drei Parameter beim Slicing sind optional und werden ggf. mit Standardwerten belegt. Testen Sie z.B. die Eingaben\n",
    "* `lst[::2]`\n",
    "* `lst[:6:2]`\n",
    "* `lst[2::3]`"
   ]
  },
  {
   "cell_type": "code",
   "execution_count": null,
   "metadata": {},
   "outputs": [],
   "source": [
    "lst[::2]"
   ]
  },
  {
   "cell_type": "code",
   "execution_count": null,
   "metadata": {},
   "outputs": [],
   "source": [
    "lst[:6:2]"
   ]
  },
  {
   "cell_type": "code",
   "execution_count": null,
   "metadata": {},
   "outputs": [],
   "source": [
    "lst[2::3]"
   ]
  },
  {
   "cell_type": "markdown",
   "metadata": {},
   "source": [
    "## Aufgabe 8 (Sequenzielle Datentypen als boolscher Wert)\n",
    "Mithilfe von `bool` können Sie beliebige Ausdrücke in Wahrheitswerte umwandeln.\n",
    "\n",
    "Untersuchen Sie die Wahrheitswerte von einigen Listen und Strings, z.B. `\"Python ist toll\"`, `\"0\"`, `\"True\"`, `\"False\"`, `\"\"`, `[1,2,3]`, `[[]]`, `[0]`, `[]`."
   ]
  },
  {
   "cell_type": "code",
   "execution_count": null,
   "metadata": {},
   "outputs": [],
   "source": [
    "bool(\"Python ist toll\")"
   ]
  },
  {
   "cell_type": "code",
   "execution_count": null,
   "metadata": {},
   "outputs": [],
   "source": [
    "bool(\"0\")"
   ]
  },
  {
   "cell_type": "code",
   "execution_count": null,
   "metadata": {},
   "outputs": [],
   "source": [
    "bool(\"True\")"
   ]
  },
  {
   "cell_type": "code",
   "execution_count": null,
   "metadata": {},
   "outputs": [],
   "source": [
    "bool(\"False\")"
   ]
  },
  {
   "cell_type": "code",
   "execution_count": null,
   "metadata": {},
   "outputs": [],
   "source": [
    "bool(\"\")"
   ]
  },
  {
   "cell_type": "code",
   "execution_count": null,
   "metadata": {},
   "outputs": [],
   "source": [
    "bool([1,2,3])"
   ]
  },
  {
   "cell_type": "code",
   "execution_count": null,
   "metadata": {},
   "outputs": [],
   "source": [
    "bool([[]])"
   ]
  },
  {
   "cell_type": "code",
   "execution_count": null,
   "metadata": {},
   "outputs": [],
   "source": [
    "bool([0])"
   ]
  },
  {
   "cell_type": "code",
   "execution_count": null,
   "metadata": {},
   "outputs": [],
   "source": [
    "bool([])"
   ]
  },
  {
   "cell_type": "markdown",
   "metadata": {},
   "source": [
    "Was passiert, wenn Sie andere Datentypen als `bool`, z.B. Listen und Strings, mit logischen Operatoren (z.B. `and` und `or`) verknüpfen? Untersuchen Sie explizit der Verhalten von leeren Listen im Vergleich zu gefüllten Listen."
   ]
  },
  {
   "cell_type": "code",
   "execution_count": null,
   "metadata": {},
   "outputs": [],
   "source": [
    "\"a\" or False"
   ]
  },
  {
   "cell_type": "code",
   "execution_count": null,
   "metadata": {},
   "outputs": [],
   "source": [
    "[1] and \"\""
   ]
  },
  {
   "cell_type": "code",
   "execution_count": null,
   "metadata": {},
   "outputs": [],
   "source": [
    "[1] or \"\""
   ]
  },
  {
   "cell_type": "markdown",
   "metadata": {},
   "source": [
    "<font color=\"DodgerBlue\">  \n",
    "`x and y` gibt x zurück, wenn x `False` ist, sonst wird y zurückgegeben.  \n",
    "`x or y` gibt y zurück, wenn x `False` ist, sonst wird x zurückgegeben.\n",
    "\n",
    "zum Nachlesen:  \n",
    "https://docs.python.org/3.7/library/stdtypes.html#boolean-operations-and-or-not\n",
    "</font><br>\n",
    "\n",
    "---"
   ]
  },
  {
   "cell_type": "markdown",
   "metadata": {},
   "source": [
    "## Aufgabe 9 (Eine Autoversicherung)\n",
    "Eine Autoversicherung berechnet den Versicherungsbeitrag V mit $V = F + \\alpha W$. Dabei ist F ein Fixbetrag, der von der Anzahl der bisherigen Unfälle des zu Versichernden abhängt, wie in folgender Tabelle.\n",
    "\n",
    "Unfälle | 0 | 1  | 2  |  3  |  4  | 5\n",
    "------- | - | -- | -- | --- | --- | ---\n",
    "F       | 0 | 50 | 87 | 122 | 170 | 210\n",
    "\n",
    "Hat der potentielle Kunde mehr als 5 Unfälle gehabt, verweigert die Versicherung ihm ihre Dienste. Mit $W$ wird der geschätzte\n",
    "Wert des Autos bezeichnet und $\\alpha = 0.03$ ist ein geheimer Faktor, von dem niemand weiß, woher er kommt.\n",
    "\n",
    "**a)** Schreiben Sie ein Programm, das die Anzahl der Unfälle und den Wert des Autos über die Tastatur einliest und die zugehörige Versicherungssumme auf dem Bildschirm ausgibt, indem Sie die Eingaben mithilfe einer `if-elif-else-`Anweisung prüfen."
   ]
  },
  {
   "cell_type": "code",
   "execution_count": null,
   "metadata": {},
   "outputs": [],
   "source": [
    "accidents = int(input(\"Anzahl der Unfälle:\\n\"))\n",
    "W = float(input(\"Wert des Autos:\\n\"))\n",
    "\n",
    "if accidents == 0:\n",
    "    F = 0\n",
    "elif accidents == 1:\n",
    "    F = 50\n",
    "elif accidents == 2:\n",
    "    F = 87\n",
    "elif accidents == 3:\n",
    "    F = 122\n",
    "elif accidents == 4:\n",
    "    F = 170\n",
    "elif accidents == 5:\n",
    "    F = 210\n",
    "else:\n",
    "    F = -1\n",
    "\n",
    "if F == -1:\n",
    "    print(\"Die Versicherung verweigert ihre Dienste!\")\n",
    "else:\n",
    "    V = F + 0.03*W\n",
    "    print(\"Der Versicherungsbetrag ist:\", V)\n"
   ]
  },
  {
   "cell_type": "markdown",
   "metadata": {},
   "source": [
    "**b)** Erstellen Sie eine Version des Programms, die mit höchstens einer if-Anweisung auskommt, welche keinen elif-Zweig besitzt.  \n",
    "*Hinweis: Speichern Sie die Tabelle in einer geeigneten Datenstruktur.*"
   ]
  },
  {
   "cell_type": "code",
   "execution_count": null,
   "metadata": {},
   "outputs": [],
   "source": [
    "F = [0, 50, 87, 122, 170, 210]\n",
    "accidents = int(input(\"Anzahl der Unfälle:\\n\"))\n",
    "W = float(input(\"Wert des Autos:\\n\"))\n",
    "\n",
    "if 0 <= accidents <= 5:\n",
    "    V = F[accidents] + 0.03*W\n",
    "    print(\"Der Versicherungsbetrag ist:\", V)\n",
    "else:\n",
    "    print(\"Die Versicherung verweigert ihre Dienste!\")\n"
   ]
  },
  {
   "cell_type": "markdown",
   "metadata": {},
   "source": [
    "**c)** Nach einer Überarbeitung der Berechnungsvorschrift spielt zusätzlich zu den Unfällen des Kunden selbst auch die durchschnittliche Unfallzahl der anderen Autofahrer in seinem Landkreis eine Rolle.  \n",
    "Die neue Vorschrift lautet $V = F+M+ \\alpha W$, wobei folgende Tabelle zugrunde gelegt wird.\n",
    "\n",
    "Unfälle | 0.05 | 0.7 | 1.3 | 1.7 | 2.5\n",
    "------- | ---- | --- | --- | --- | ---\n",
    "M       | 0    | 12  | 25  | 32  | 50\n",
    "\n",
    "Erweitern Sie Ihr Programm so, dass es die neue Berechnungsvorschrift umsetzt, indem Sie nun zusätzlich die durchschnittliche Unfallzahl der anderen Autofahrer in seinem Landkreis einlesen (als float).  \n",
    "Warum können Sie für die zweite Tabelle nicht den gleichen Trick wie in b) anwenden?"
   ]
  },
  {
   "cell_type": "code",
   "execution_count": null,
   "metadata": {},
   "outputs": [],
   "source": [
    "F = [0, 50, 87, 122, 170, 210]\n",
    "M_keys = [0.05, 0.7, 1.3, 1.7, 2.5]\n",
    "M_values = [0, 12, 25, 32, 50]\n",
    "\n",
    "accidents = int(input(\"Anzahl der Unfälle:\\n\"))\n",
    "W = float(input(\"Wert des Autos:\\n\"))\n",
    "avr_acc = float(input(\"Anzahl der durchschnittlichen Unfälle im Landkreis:\\n\"))\n",
    "\n",
    "M = -1\n",
    "for i in range(len(M_keys)):\n",
    "    # verwende den ersten Wert, bei dem avr_acc kleiner als der aktuelle Wert ist, \n",
    "    # also für avr_acc=1.2 ist das für i=2, also M_keys[2]=1.3, das erste Mal der Fall\n",
    "    if avr_acc <= M_keys[i]:\n",
    "        M = M_values[i]\n",
    "        break\n",
    "\n",
    "if M == -1:\n",
    "    print(\"Konnte kein geeignetes M finden\")\n",
    "else:\n",
    "    if 0 <= accidents <= 5:\n",
    "        V = F[accidents] + M + 0.03*W\n",
    "        print(\"Der Versicherungsbetrag ist:\", V)\n",
    "    else:\n",
    "        print(\"Die Versicherung verweigert ihre Dienste!\")\n"
   ]
  },
  {
   "cell_type": "markdown",
   "metadata": {},
   "source": [
    "---\n",
    "\n",
    "## Aufgabe 10 (Familienfeier)\n",
    "Familie Müller ist zu einer Geburtstagsfeier eingeladen. Leider können sich die Familienmitglieder (Anton, Berta, Claus, Doris) nicht einigen, wer hingeht und wer nicht. In einer gemeinsamen Diskussion kann man sich jedoch auf die folgenden fünf Grundsätze verständigen:\n",
    "1. Mindestens ein Familienmitglied geht zu der Feier.\n",
    "2. Anton geht auf keinen Fall zusammen mit Doris.\n",
    "3. Wenn Berta geht, dann geht Claus mit.\n",
    "4. Wenn Anton und Claus gehen, dann bleibt Berta zu Hause.\n",
    "5. Wenn Anton zu Hause bleibt, dann geht entweder Doris oder Claus.\n",
    "\n",
    "Helfen Sie der Familie Müller, indem Sie\n",
    "\n",
    "**a)** ein Programm schreiben, das für jedes der Familienmitglieder eine Variable vom Typ `bool` enthält, die beschreibt, ob das jeweilige Familienmitglied zu der Feier geht. Prüfen Sie für **eine beliebige** Belegung der Variablen, ob die Bedingungen (1)-(5) erfüllt sind.\n",
    "\n",
    "**Versuchen Sie, ohne `if`-Abfrage auszukommen.**\n",
    "\n",
    "*Hinweis: Beachten Sie, dass $X\\Rightarrow Y$ logisch äquivalent zu $\\neg X \\vee Y$ ist, und dass Sie \"entweder $X$ oder $Y$\" äquivalent als $\\neg (X \\wedge Y) \\wedge (X \\vee Y)$ ausdrücken können.*"
   ]
  },
  {
   "cell_type": "code",
   "execution_count": null,
   "metadata": {},
   "outputs": [],
   "source": [
    "anton = True\n",
    "berta = True\n",
    "claus = True\n",
    "doris = True\n",
    "\n",
    "bedA = anton + berta + claus + doris > 0\n",
    "bedB = not anton or not doris\n",
    "bedC = not berta or claus\n",
    "bedD = not (anton and claus) or not berta\n",
    "bedE = anton or (not (doris and claus) and (doris or claus))\n",
    "\n",
    "bedA and bedB and bedC and bedD and bedE\n"
   ]
  },
  {
   "cell_type": "markdown",
   "metadata": {},
   "source": [
    "**b)** ein Programm schreiben, dass alle Konstellationen ermittelt, die die Bedingungen (1)-(5) erfüllen.\n",
    "        \n",
    "*Hinweis: Verwenden Sie geschachtelte `for`-Schleifen.*"
   ]
  },
  {
   "cell_type": "code",
   "execution_count": null,
   "metadata": {},
   "outputs": [],
   "source": [
    "for a in [True, False]:\n",
    "    for b in [True, False]:\n",
    "        for c in [True, False]:\n",
    "            for d in [True, False]:\n",
    "                bedA = a + b + c + d > 0\n",
    "                bedB = not a or not d\n",
    "                bedC = not b or c\n",
    "                bedD = not (a and c) or not b\n",
    "                bedE = a or (not (d and c) and (d or c))\n",
    "                valid = bedA and bedB and bedC and bedD and bedE\n",
    "\n",
    "                print(\"Anton = {},\\tBerta = {},\\tClaus = {},\\tDoris = {}\\t| Valid:{}\".format(a, b, c, d, valid))\n"
   ]
  },
  {
   "cell_type": "code",
   "execution_count": null,
   "metadata": {},
   "outputs": [],
   "source": [
    "# Eine elegantere Lösung als geschachtelte for-Schleifen liefert das Modul `itertools`, \n",
    "# mit dem Permutationen in einer Schleife durchlaufen werden können.\n",
    "\n",
    "import itertools\n",
    "possibilities = itertools.product([True, False], repeat=4)\n",
    "\n",
    "for a, b, c, d in possibilities:\n",
    "    bedA = a + b + c + d > 0\n",
    "    bedB = not a or not d\n",
    "    bedC = not b or c\n",
    "    bedD = not (a and c) or not b\n",
    "    bedE = a or (not (d and c) and (d or c))\n",
    "    valid = bedA and bedB and bedC and bedD and bedE\n",
    "\n",
    "    print(\"Anton = {},\\tBerta = {},\\tClaus = {},\\tDoris = {}\\t| Valid:{}\".format(a, b, c, d, valid))\n"
   ]
  }
 ],
 "metadata": {
  "kernelspec": {
   "display_name": "Python 3",
   "language": "python",
   "name": "python3"
  },
  "language_info": {
   "codemirror_mode": {
    "name": "ipython",
    "version": 3
   },
   "file_extension": ".py",
   "mimetype": "text/x-python",
   "name": "python",
   "nbconvert_exporter": "python",
   "pygments_lexer": "ipython3",
   "version": "3.7.3"
  }
 },
 "nbformat": 4,
 "nbformat_minor": 2
}
