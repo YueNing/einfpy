{
 "cells": [
  {
   "cell_type": "markdown",
   "metadata": {},
   "source": [
    "# Einführung in Python - Übungsblatt 2\n",
    "\n",
    "---\n",
    "\n",
    "<img src=\"https://imgur.com/csPsMyi.png\" alt=\"\" width=600 border=\"0\" />"
   ]
  },
  {
   "cell_type": "markdown",
   "metadata": {},
   "source": [
    "## Aufgabe 7 (Sequenzielle Datentypen, Slicing)\n",
    ">Python kennt eine Reihe von *sequentiellen Datentypen*, die sich dadurch auszeichnen, dass sie eine geordnete Folge von ggf. verschiedenartigen Instanzen verwalten können. Beispiele für solche Sequenzen sind Strings und Listen.\n",
    "\n",
    ">Auf Instanzen sequentieller Datentypen gibt es eine Reihe von Operationen, von denen wir hier einige erarbeiten wollen.\n",
    "\n",
    "**a)** Erzeugen Sie eine Liste `lst`, welche die Zahlen von `0` bis `9` enthält. Was liefern die folgenden Ausdrücke?\n",
    "\n",
    "* `lst[1]`\n",
    "* `lst[0]`\n",
    "* `lst[-1]`\n",
    "* `lst[-2]`\n",
    "* `lst[-len(lst)]`\n",
    "* `lst[-12]`\n",
    "* `lst[11]`"
   ]
  },
  {
   "cell_type": "code",
   "execution_count": 8,
   "metadata": {
    "scrolled": true
   },
   "outputs": [],
   "source": [
    "lst = list(range(0,10))"
   ]
  },
  {
   "cell_type": "code",
   "execution_count": 9,
   "metadata": {},
   "outputs": [
    {
     "data": {
      "text/plain": [
       "1"
      ]
     },
     "execution_count": 9,
     "metadata": {},
     "output_type": "execute_result"
    }
   ],
   "source": [
    "lst[1]"
   ]
  },
  {
   "cell_type": "code",
   "execution_count": 14,
   "metadata": {},
   "outputs": [
    {
     "data": {
      "text/plain": [
       "0"
      ]
     },
     "execution_count": 14,
     "metadata": {},
     "output_type": "execute_result"
    }
   ],
   "source": [
    "lst[0]"
   ]
  },
  {
   "cell_type": "code",
   "execution_count": 13,
   "metadata": {},
   "outputs": [
    {
     "data": {
      "text/plain": [
       "9"
      ]
     },
     "execution_count": 13,
     "metadata": {},
     "output_type": "execute_result"
    }
   ],
   "source": [
    "lst[-1]"
   ]
  },
  {
   "cell_type": "code",
   "execution_count": 12,
   "metadata": {},
   "outputs": [
    {
     "data": {
      "text/plain": [
       "8"
      ]
     },
     "execution_count": 12,
     "metadata": {},
     "output_type": "execute_result"
    }
   ],
   "source": [
    "lst[-2]"
   ]
  },
  {
   "cell_type": "code",
   "execution_count": 11,
   "metadata": {},
   "outputs": [
    {
     "data": {
      "text/plain": [
       "0"
      ]
     },
     "execution_count": 11,
     "metadata": {},
     "output_type": "execute_result"
    }
   ],
   "source": [
    "lst[-len(lst)]"
   ]
  },
  {
   "cell_type": "code",
   "execution_count": 15,
   "metadata": {},
   "outputs": [
    {
     "ename": "IndexError",
     "evalue": "list index out of range",
     "output_type": "error",
     "traceback": [
      "\u001b[0;31m---------------------------------------------------------------------------\u001b[0m",
      "\u001b[0;31mIndexError\u001b[0m                                Traceback (most recent call last)",
      "\u001b[0;32m<ipython-input-15-e720df7471cd>\u001b[0m in \u001b[0;36m<module>\u001b[0;34m\u001b[0m\n\u001b[0;32m----> 1\u001b[0;31m \u001b[0mlst\u001b[0m\u001b[0;34m[\u001b[0m\u001b[0;34m-\u001b[0m\u001b[0;36m12\u001b[0m\u001b[0;34m]\u001b[0m\u001b[0;34m\u001b[0m\u001b[0;34m\u001b[0m\u001b[0m\n\u001b[0m",
      "\u001b[0;31mIndexError\u001b[0m: list index out of range"
     ]
    }
   ],
   "source": [
    "lst[-12]"
   ]
  },
  {
   "cell_type": "code",
   "execution_count": 16,
   "metadata": {},
   "outputs": [
    {
     "ename": "IndexError",
     "evalue": "list index out of range",
     "output_type": "error",
     "traceback": [
      "\u001b[0;31m---------------------------------------------------------------------------\u001b[0m",
      "\u001b[0;31mIndexError\u001b[0m                                Traceback (most recent call last)",
      "\u001b[0;32m<ipython-input-16-d0290fe38369>\u001b[0m in \u001b[0;36m<module>\u001b[0;34m\u001b[0m\n\u001b[0;32m----> 1\u001b[0;31m \u001b[0mlst\u001b[0m\u001b[0;34m[\u001b[0m\u001b[0;36m11\u001b[0m\u001b[0;34m]\u001b[0m\u001b[0;34m\u001b[0m\u001b[0;34m\u001b[0m\u001b[0m\n\u001b[0m",
      "\u001b[0;31mIndexError\u001b[0m: list index out of range"
     ]
    }
   ],
   "source": [
    "lst[11]"
   ]
  },
  {
   "cell_type": "markdown",
   "metadata": {},
   "source": [
    "Veranschaulichen Sie die Indizierung mit positiven und negativen Indizes mit einer Zeichnung.\n",
    "\n"
   ]
  },
  {
   "cell_type": "markdown",
   "metadata": {},
   "source": [
    "\n",
    "---\n",
    "\n",
    "**b)** Was liefern die folgenden Eingaben?\n",
    "* `lst[2:5]`\n",
    "* `lst[2:-3]`\n",
    "* `lst[7:2]`\n",
    "* `lst[7:2:-1]`\n",
    "* `lst[7:2:-3]`\n",
    "* `lst[-2:-3]`\n",
    "* `lst[-5:-3]`"
   ]
  },
  {
   "cell_type": "code",
   "execution_count": 17,
   "metadata": {
    "scrolled": true
   },
   "outputs": [
    {
     "data": {
      "text/plain": [
       "[2, 3, 4]"
      ]
     },
     "execution_count": 17,
     "metadata": {},
     "output_type": "execute_result"
    }
   ],
   "source": [
    "lst[2:5]"
   ]
  },
  {
   "cell_type": "code",
   "execution_count": 18,
   "metadata": {},
   "outputs": [
    {
     "data": {
      "text/plain": [
       "[2, 3, 4, 5, 6]"
      ]
     },
     "execution_count": 18,
     "metadata": {},
     "output_type": "execute_result"
    }
   ],
   "source": [
    "lst[2:-3]"
   ]
  },
  {
   "cell_type": "code",
   "execution_count": 19,
   "metadata": {},
   "outputs": [
    {
     "data": {
      "text/plain": [
       "[]"
      ]
     },
     "execution_count": 19,
     "metadata": {},
     "output_type": "execute_result"
    }
   ],
   "source": [
    "lst[7:2]"
   ]
  },
  {
   "cell_type": "code",
   "execution_count": 20,
   "metadata": {},
   "outputs": [
    {
     "data": {
      "text/plain": [
       "[7, 6, 5, 4, 3]"
      ]
     },
     "execution_count": 20,
     "metadata": {},
     "output_type": "execute_result"
    }
   ],
   "source": [
    "lst[7:2:-1]"
   ]
  },
  {
   "cell_type": "code",
   "execution_count": 21,
   "metadata": {},
   "outputs": [
    {
     "data": {
      "text/plain": [
       "[7, 4]"
      ]
     },
     "execution_count": 21,
     "metadata": {},
     "output_type": "execute_result"
    }
   ],
   "source": [
    "lst[7:2:-3]"
   ]
  },
  {
   "cell_type": "code",
   "execution_count": 22,
   "metadata": {},
   "outputs": [
    {
     "data": {
      "text/plain": [
       "[]"
      ]
     },
     "execution_count": 22,
     "metadata": {},
     "output_type": "execute_result"
    }
   ],
   "source": [
    "lst[-2:-3]"
   ]
  },
  {
   "cell_type": "code",
   "execution_count": 23,
   "metadata": {
    "scrolled": false
   },
   "outputs": [
    {
     "data": {
      "text/plain": [
       "[5, 6]"
      ]
     },
     "execution_count": 23,
     "metadata": {},
     "output_type": "execute_result"
    }
   ],
   "source": [
    "lst[-5:-3]"
   ]
  },
  {
   "cell_type": "markdown",
   "metadata": {},
   "source": [
    "Diese Art des Zugriffs auf Teile einer Sequenz wird *Slicing* genannt. Machen Sie sich die Bedeutung der drei Argumente des Slicings klar.\n",
    "\n",
    "_Bemerkung_:  \n",
    "Sie können Slices auch mit `slice` erzeugen, z.B. ist `lst[slice(2, 5)]` äquivalent zu `lst[2:5]`.  \n",
    "Beim Slicing wird der angegebene Listenausschnitt kopiert, d.h. Änderungen an diesem, wie z.B. `lst[2:5][0] = 42`, verändern die ursprüngliche Liste `lst` nicht.\n",
    "\n",
    "\n",
    "---\n",
    "\n",
    "**c)** Nun erzeugen Sie einen String `name` mit Ihrem Vor- und Nachnamen und führen Sie die Teilaufgaben a) und b) mit `name` anstelle von `lst` aus."
   ]
  },
  {
   "cell_type": "code",
   "execution_count": 24,
   "metadata": {},
   "outputs": [],
   "source": [
    "name = 'Yue Ning'"
   ]
  },
  {
   "cell_type": "code",
   "execution_count": 41,
   "metadata": {},
   "outputs": [
    {
     "data": {
      "text/plain": [
       "'e Nin'"
      ]
     },
     "execution_count": 41,
     "metadata": {},
     "output_type": "execute_result"
    }
   ],
   "source": [
    "name[2:-1]"
   ]
  },
  {
   "cell_type": "code",
   "execution_count": 42,
   "metadata": {},
   "outputs": [
    {
     "data": {
      "text/plain": [
       "'Y'"
      ]
     },
     "execution_count": 42,
     "metadata": {},
     "output_type": "execute_result"
    }
   ],
   "source": [
    "name[-len(name)]"
   ]
  },
  {
   "cell_type": "markdown",
   "metadata": {},
   "source": [
    "**d)** Alle drei Parameter beim Slicing sind optional und werden ggf. mit Standardwerten belegt. Testen Sie z.B. die Eingaben\n",
    "* `lst[::2]`\n",
    "* `lst[:6:2]`\n",
    "* `lst[2::3]`"
   ]
  },
  {
   "cell_type": "code",
   "execution_count": 43,
   "metadata": {},
   "outputs": [
    {
     "data": {
      "text/plain": [
       "[0, 2, 4, 6, 8]"
      ]
     },
     "execution_count": 43,
     "metadata": {},
     "output_type": "execute_result"
    }
   ],
   "source": [
    "lst[::2]"
   ]
  },
  {
   "cell_type": "code",
   "execution_count": 44,
   "metadata": {},
   "outputs": [
    {
     "data": {
      "text/plain": [
       "[0, 2, 4]"
      ]
     },
     "execution_count": 44,
     "metadata": {},
     "output_type": "execute_result"
    }
   ],
   "source": [
    "lst[:6:2]"
   ]
  },
  {
   "cell_type": "code",
   "execution_count": 45,
   "metadata": {},
   "outputs": [
    {
     "data": {
      "text/plain": [
       "[2, 5, 8]"
      ]
     },
     "execution_count": 45,
     "metadata": {},
     "output_type": "execute_result"
    }
   ],
   "source": [
    "lst[2::3]"
   ]
  },
  {
   "cell_type": "markdown",
   "metadata": {},
   "source": [
    "## Aufgabe 8 (Sequenzielle Datentypen als boolscher Wert)\n",
    "Mithilfe von `bool` können Sie beliebige Ausdrücke in Wahrheitswerte umwandeln.\n",
    "\n",
    "Untersuchen Sie die Wahrheitswerte von einigen Listen und Strings, z.B. `\"Python ist toll\"`, `\"0\"`, `\"True\"`, `\"False\"`, `\"\"`, `[1,2,3]`, `[[]]`, `[0]`, `[]`."
   ]
  },
  {
   "cell_type": "code",
   "execution_count": 47,
   "metadata": {},
   "outputs": [
    {
     "data": {
      "text/plain": [
       "True"
      ]
     },
     "execution_count": 47,
     "metadata": {},
     "output_type": "execute_result"
    }
   ],
   "source": [
    "bool(\"Python ist toll\")"
   ]
  },
  {
   "cell_type": "code",
   "execution_count": 48,
   "metadata": {},
   "outputs": [
    {
     "data": {
      "text/plain": [
       "True"
      ]
     },
     "execution_count": 48,
     "metadata": {},
     "output_type": "execute_result"
    }
   ],
   "source": [
    "bool(\"0\")"
   ]
  },
  {
   "cell_type": "code",
   "execution_count": 49,
   "metadata": {},
   "outputs": [
    {
     "data": {
      "text/plain": [
       "True"
      ]
     },
     "execution_count": 49,
     "metadata": {},
     "output_type": "execute_result"
    }
   ],
   "source": [
    "bool(\"True\")"
   ]
  },
  {
   "cell_type": "code",
   "execution_count": 50,
   "metadata": {},
   "outputs": [
    {
     "data": {
      "text/plain": [
       "True"
      ]
     },
     "execution_count": 50,
     "metadata": {},
     "output_type": "execute_result"
    }
   ],
   "source": [
    "bool(\"False\")"
   ]
  },
  {
   "cell_type": "code",
   "execution_count": 51,
   "metadata": {},
   "outputs": [
    {
     "data": {
      "text/plain": [
       "False"
      ]
     },
     "execution_count": 51,
     "metadata": {},
     "output_type": "execute_result"
    }
   ],
   "source": [
    "bool(\"\")"
   ]
  },
  {
   "cell_type": "code",
   "execution_count": 52,
   "metadata": {},
   "outputs": [
    {
     "data": {
      "text/plain": [
       "True"
      ]
     },
     "execution_count": 52,
     "metadata": {},
     "output_type": "execute_result"
    }
   ],
   "source": [
    "bool([1, 2,3])"
   ]
  },
  {
   "cell_type": "code",
   "execution_count": 56,
   "metadata": {},
   "outputs": [
    {
     "data": {
      "text/plain": [
       "True"
      ]
     },
     "execution_count": 56,
     "metadata": {},
     "output_type": "execute_result"
    }
   ],
   "source": [
    "bool([[]])"
   ]
  },
  {
   "cell_type": "code",
   "execution_count": 57,
   "metadata": {},
   "outputs": [
    {
     "data": {
      "text/plain": [
       "True"
      ]
     },
     "execution_count": 57,
     "metadata": {},
     "output_type": "execute_result"
    }
   ],
   "source": [
    "bool([0])"
   ]
  },
  {
   "cell_type": "code",
   "execution_count": 70,
   "metadata": {},
   "outputs": [
    {
     "name": "stdout",
     "output_type": "stream",
     "text": [
      "140196927487112\n",
      "94416441618672\n"
     ]
    }
   ],
   "source": [
    "print(id([]))\n",
    "print(id(None))"
   ]
  },
  {
   "cell_type": "markdown",
   "metadata": {},
   "source": [
    "Was passiert, wenn Sie andere Datentypen als `bool`, z.B. Listen und Strings, mit logischen Operatoren (z.B. `and` und `or`) verknüpfen? Untersuchen Sie explizit der Verhalten von leeren Listen im Vergleich zu gefüllten Listen."
   ]
  },
  {
   "cell_type": "code",
   "execution_count": 59,
   "metadata": {},
   "outputs": [
    {
     "data": {
      "text/plain": [
       "'a'"
      ]
     },
     "execution_count": 59,
     "metadata": {},
     "output_type": "execute_result"
    }
   ],
   "source": [
    "\"a\" or False"
   ]
  },
  {
   "cell_type": "code",
   "execution_count": 78,
   "metadata": {},
   "outputs": [
    {
     "data": {
      "text/plain": [
       "True"
      ]
     },
     "execution_count": 78,
     "metadata": {},
     "output_type": "execute_result"
    }
   ],
   "source": [
    "\"111\" and True"
   ]
  },
  {
   "cell_type": "code",
   "execution_count": 61,
   "metadata": {},
   "outputs": [
    {
     "data": {
      "text/plain": [
       "'Yue Ning'"
      ]
     },
     "execution_count": 61,
     "metadata": {},
     "output_type": "execute_result"
    }
   ],
   "source": [
    "\"\" or \"Yue Ning\""
   ]
  },
  {
   "cell_type": "markdown",
   "metadata": {},
   "source": [
    "\n",
    "---"
   ]
  },
  {
   "cell_type": "markdown",
   "metadata": {},
   "source": [
    "## Aufgabe 9 (Eine Autoversicherung)\n",
    "Eine Autoversicherung berechnet den Versicherungsbeitrag V mit $V = F + \\alpha W$. Dabei ist F ein Fixbetrag, der von der Anzahl der bisherigen Unfälle des zu Versichernden abhängt, wie in folgender Tabelle.\n",
    "\n",
    "Unfälle | 0 | 1  | 2  |  3  |  4  | 5\n",
    "------- | - | -- | -- | --- | --- | ---\n",
    "F       | 0 | 50 | 87 | 122 | 170 | 210\n",
    "\n",
    "Hat der potentielle Kunde mehr als 5 Unfälle gehabt, verweigert die Versicherung ihm ihre Dienste. Mit $W$ wird der geschätzte\n",
    "Wert des Autos bezeichnet und $\\alpha = 0.03$ ist ein geheimer Faktor, von dem niemand weiß, woher er kommt.\n",
    "\n",
    "**a)** Schreiben Sie ein Programm, das die Anzahl der Unfälle und den Wert des Autos über die Tastatur einliest und die zugehörige Versicherungssumme auf dem Bildschirm ausgibt, indem Sie die Eingaben mithilfe einer `if-elif-else-`Anweisung prüfen."
   ]
  },
  {
   "cell_type": "code",
   "execution_count": 90,
   "metadata": {},
   "outputs": [
    {
     "name": "stdout",
     "output_type": "stream",
     "text": [
      "Please input die Anzahl der Unfaelle3\n",
      "please input the wert des Autos30\n",
      "Versicherungsbeitrag is 122.9\n"
     ]
    }
   ],
   "source": [
    "F = [0, 50, 87, 122, 170, 210]\n",
    "zahl = input('Please input die Anzahl der Unfaelle 0-5')\n",
    "if int(zahl) in range(0,5):\n",
    "    wert = input(\"please input the wert des Autos\")\n",
    "    if float(wert) <0:\n",
    "        print('wert should be a positive number!')\n",
    "    else:\n",
    "        V = F[int(zahl)] + 0.03*float(wert)\n",
    "        print(f'Versicherungsbeitrag is {V}')\n",
    "else:\n",
    "    print('please input the zahl between 0-5')"
   ]
  },
  {
   "cell_type": "markdown",
   "metadata": {},
   "source": [
    "**b)** Erstellen Sie eine Version des Programms, die mit höchstens einer if-Anweisung auskommt, welche keinen elif-Zweig besitzt.  \n",
    "*Hinweis: Speichern Sie die Tabelle in einer geeigneten Datenstruktur.*"
   ]
  },
  {
   "cell_type": "code",
   "execution_count": 93,
   "metadata": {},
   "outputs": [
    {
     "data": {
      "text/plain": [
       "1.1"
      ]
     },
     "execution_count": 93,
     "metadata": {},
     "output_type": "execute_result"
    }
   ],
   "source": []
  },
  {
   "cell_type": "markdown",
   "metadata": {},
   "source": [
    "**c)** Nach einer Überarbeitung der Berechnungsvorschrift spielt zusätzlich zu den Unfällen des Kunden selbst auch die durchschnittliche Unfallzahl der anderen Autofahrer in seinem Landkreis eine Rolle.  \n",
    "Die neue Vorschrift lautet $V = F+M+ \\alpha W$, wobei folgende Tabelle zugrunde gelegt wird.\n",
    "\n",
    "Unfälle | 0.05 | 0.7 | 1.3 | 1.7 | 2.5\n",
    "------- | ---- | --- | --- | --- | ---\n",
    "M       | 0    | 12  | 25  | 32  | 50\n",
    "\n",
    "Erweitern Sie Ihr Programm so, dass es die neue Berechnungsvorschrift umsetzt, indem Sie nun zusätzlich die durchschnittliche Unfallzahl der anderen Autofahrer in seinem Landkreis einlesen (als float).  \n",
    "Warum können Sie für die zweite Tabelle nicht den gleichen Trick wie in b) anwenden?"
   ]
  },
  {
   "cell_type": "code",
   "execution_count": 102,
   "metadata": {},
   "outputs": [
    {
     "name": "stdout",
     "output_type": "stream",
     "text": [
      "Please input die Anzahl der Unfaelle 0-52\n",
      "Please input durchschnittliche Unfallzahl [0.05, 0.7, 1.3, 1.7, 2.5]0.05\n",
      "Please input wert des auto100\n",
      "90.0\n"
     ]
    }
   ],
   "source": [
    "F = {'0': '0', '1': '50', '2':'87', '3':'122', '4':\"170\", '5':\"210\"}\n",
    "M = {\"0.05\":\"0\", \"0.7\":\"12\", \"1.3\":\"25\", \"1.7\":\"32\", \"2.5\":\"50\"}\n",
    "zahl = input('Please input die Anzahl der Unfaelle 0-5')\n",
    "m = input('Please input durchschnittliche Unfallzahl [0.05, 0.7, 1.3, 1.7, 2.5]')\n",
    "w = input('Please input wert des auto')\n",
    "if zahl in F:\n",
    "    if m in M:\n",
    "        if float(w) < 0:\n",
    "            print(\"error w\")\n",
    "        else:\n",
    "            V = float(F[zahl]) + float(M[m]) + 0.03*float(w)\n",
    "            print(V)\n",
    "#             print(f\"Reuslt is\")\n",
    "    else:\n",
    "        print(\"please input the zahl [0.05, 0.7, 1.3, 1.7, 2.5]\")\n",
    "else:\n",
    "    print('please input the zahl between 0-5')"
   ]
  },
  {
   "cell_type": "markdown",
   "metadata": {},
   "source": [
    "---\n",
    "\n",
    "## Aufgabe 10 (Familienfeier)\n",
    "Familie Müller ist zu einer Geburtstagsfeier eingeladen. Leider können sich die Familienmitglieder (Anton, Berta, Claus, Doris) nicht einigen, wer hingeht und wer nicht. In einer gemeinsamen Diskussion kann man sich jedoch auf die folgenden fünf Grundsätze verständigen:\n",
    "1. Mindestens ein Familienmitglied geht zu der Feier.\n",
    "2. Anton geht auf keinen Fall zusammen mit Doris.\n",
    "3. Wenn Berta geht, dann geht Claus mit.\n",
    "4. Wenn Anton und Claus gehen, dann bleibt Berta zu Hause.\n",
    "5. Wenn Anton zu Hause bleibt, dann geht entweder Doris oder Claus.\n",
    "\n",
    "Helfen Sie der Familie Müller, indem Sie\n",
    "\n",
    "**a)** ein Programm schreiben, das für jedes der Familienmitglieder eine Variable vom Typ `bool` enthält, die beschreibt, ob das jeweilige Familienmitglied zu der Feier geht. Prüfen Sie für **eine beliebige** Belegung der Variablen, ob die Bedingungen (1)-(5) erfüllt sind.\n",
    "\n",
    "**Versuchen Sie, ohne `if`-Abfrage auszukommen.**\n",
    "\n",
    "*Hinweis: Beachten Sie, dass $X\\Rightarrow Y$ logisch äquivalent zu $\\neg X \\vee Y$ ist, und dass Sie \"entweder $X$ oder $Y$\" äquivalent als $\\neg (X \\wedge Y) \\wedge (X \\vee Y)$ ausdrücken können.*"
   ]
  },
  {
   "cell_type": "code",
   "execution_count": 0,
   "metadata": {
    "collapsed": true
   },
   "outputs": [],
   "source": []
  },
  {
   "cell_type": "markdown",
   "metadata": {},
   "source": [
    "**b)** ein Programm schreiben, dass alle Konstellationen ermittelt, die die Bedingungen (1)-(5) erfüllen.\n",
    "        \n",
    "*Hinweis: Verwenden Sie geschachtelte `for`-Schleifen.*"
   ]
  },
  {
   "cell_type": "code",
   "execution_count": 0,
   "metadata": {
    "collapsed": true
   },
   "outputs": [],
   "source": []
  },
  {
   "cell_type": "code",
   "execution_count": 0,
   "metadata": {},
   "outputs": [],
   "source": []
  }
 ],
 "metadata": {
  "kernelspec": {
   "display_name": "Python 3",
   "language": "python",
   "name": "python3"
  },
  "language_info": {
   "codemirror_mode": {
    "name": "ipython",
    "version": 3
   },
   "file_extension": ".py",
   "mimetype": "text/x-python",
   "name": "python",
   "nbconvert_exporter": "python",
   "pygments_lexer": "ipython3",
   "version": "3.5.3"
  }
 },
 "nbformat": 4,
 "nbformat_minor": 2
}
