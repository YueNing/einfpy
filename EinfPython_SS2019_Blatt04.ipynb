{
 "cells": [
  {
   "cell_type": "markdown",
   "metadata": {},
   "source": [
    "# Einführung in Python - Übungsblatt 4\n",
    "\n",
    "---\n",
    "\n",
    "<img src=\"https://imgur.com/qloVBRn.png\" alt=\"xkcd\" width=\"600\" border=\"0\" />\n",
    "\n",
    "---\n",
    "\n",
    "## Aufgabe 15 (Eigene Funktionen schreiben)\n",
    "In vorherigen Aufgaben haben wir auf Funktionen zurückgegriffen, die uns von Python zur Verfügung gestellt wurden, beispielsweise die Funktion `print`.  \n",
    "In dieser Aufgabe werden Sie Ihre ersten eigenen Funktionen programmieren.\n",
    "\n",
    "### a)\n",
    "Schreiben Sie eine Funktion `addiere`, die zwei Parameter erwartet und ihre Summe\n",
    "zurückgibt.  \n",
    "Testen Sie die Funktion mit verschiedenen Parameterwerten, insbesondere mit Ganz-/Gleitkommazahlen, Strings, Listen, Tupeln und Kombinationen von Instanzen dieser Datentypen."
   ]
  },
  {
   "cell_type": "code",
   "execution_count": 0,
   "metadata": {
    "collapsed": true
   },
   "outputs": [],
   "source": []
  },
  {
   "cell_type": "markdown",
   "metadata": {},
   "source": [
    "---\n",
    "\n",
    "### b)\n",
    "Überlegen Sie, was das folgende Programm tut und verbessern Sie es anschließend, indem Sie geeignete Funktionen\n",
    "einführen und verwenden.\n",
    "\n",
    "```python\n",
    "n = int(input(\"n: \"))\n",
    "k = int(input(\"k: \"))\n",
    "\n",
    "zaehler = 1\n",
    "for i in range(1, n+1):\n",
    "    zaehler *= i\n",
    "\n",
    "nenner1 = 1\n",
    "for i in range(1, k+1):\n",
    "    nenner1 *= i\n",
    "\n",
    "nenner2 = 1\n",
    "for i in range(1, n-k+1):\n",
    "    nenner2 *= i\n",
    "\n",
    "n_ueber_k = zaehler // (nenner1 * nenner2)\n",
    "print(\"n ueber k: \", n_ueber_k)\n",
    "```"
   ]
  },
  {
   "cell_type": "code",
   "execution_count": 0,
   "metadata": {
    "collapsed": true
   },
   "outputs": [],
   "source": []
  },
  {
   "cell_type": "markdown",
   "metadata": {},
   "source": [
    "Überlegen Sie, welche Vorteile die modifizierte Version mit Funktionen gegenüber der Ursprungsversion hat.\n",
    "\n",
    "\n",
    "---\n",
    "\n",
    "### c)\n",
    "Schreiben Sie eine Funktion `maximum`, die das Maximum einer als Parameter übergebenen Sequenz (z.B. Listen, Tupel, ...) ermittelt und zurückgibt."
   ]
  },
  {
   "cell_type": "code",
   "execution_count": 0,
   "metadata": {
    "collapsed": true
   },
   "outputs": [],
   "source": []
  },
  {
   "cell_type": "markdown",
   "metadata": {},
   "source": [
    "Erstellen Sie eine weitere Funktion `minmax`, die sowohl das Minimum als auch das Maximum einer Sequenz ermittelt und (z.B. als Tupel) zurückgibt.  \n",
    "Testen Sie Ihre Funktionen für einige Listen.\n",
    "\n",
    "*Hinweis: Die Funktionen sollen annehmen, dass für die Elemente der übergebenen Sequenz eine Ordnungsrelation existiert.*"
   ]
  },
  {
   "cell_type": "code",
   "execution_count": 0,
   "metadata": {
    "collapsed": true
   },
   "outputs": [],
   "source": []
  },
  {
   "cell_type": "markdown",
   "metadata": {},
   "source": [
    "---\n",
    "\n",
    "### d)\n",
    "Erstellen Sie eine Funktion `intersection`, die für zwei übergebene Sequenzen die Elemente zurückgibt, die in beiden Sequenzen enthalten sind. Sorgen Sie dafür, dass Duplikate in der Ergebnisliste vermieden werden."
   ]
  },
  {
   "cell_type": "code",
   "execution_count": 0,
   "metadata": {
    "collapsed": true
   },
   "outputs": [],
   "source": []
  },
  {
   "cell_type": "markdown",
   "metadata": {},
   "source": [
    "---\n",
    "\n",
    "### e)\n",
    "Erstellen Sie ein Variante der Funktion aus d), die mit 4 Sequenzen funktioniert.  \n",
    "*Hinweis: Verwenden Sie hierfür geschickt die Funktion aus d).*"
   ]
  },
  {
   "cell_type": "code",
   "execution_count": 0,
   "metadata": {
    "collapsed": true
   },
   "outputs": [],
   "source": []
  },
  {
   "cell_type": "markdown",
   "metadata": {},
   "source": [
    "---\n",
    "\n",
    "## Aufgabe 16 (Funktionsparameter)\n",
    "Es sei die folgende Funktion gegeben:"
   ]
  },
  {
   "cell_type": "code",
   "execution_count": 0,
   "metadata": {
    "collapsed": true
   },
   "outputs": [],
   "source": [
    "def fa(a, b, c, d):\n",
    "    print(a, b, c, d)"
   ]
  },
  {
   "cell_type": "markdown",
   "metadata": {},
   "source": [
    "Was liefern die Aufrufe `fa(1, 2, 3, 4)`, `fa(1, 2, c=3, d=4)`, `fa(1, 2, d=3, c=4)`, `fa(b=1, d=2, c=4, a=3)` und `fa(d=4, 1, 2, 3)`?  \n",
    "Stellen Sie zunächst eine Vermutung auf und führen Sie **danach** die obigen Aufrufe aus."
   ]
  },
  {
   "cell_type": "code",
   "execution_count": 0,
   "metadata": {
    "collapsed": true
   },
   "outputs": [],
   "source": []
  },
  {
   "cell_type": "markdown",
   "metadata": {},
   "source": [
    "---\n",
    "\n",
    "Betrachten Sie folgende Funktion:"
   ]
  },
  {
   "cell_type": "code",
   "execution_count": 0,
   "metadata": {
    "collapsed": true
   },
   "outputs": [],
   "source": [
    "def ga(a, b, c=3, d=4):\n",
    "    print(a, b, c, d)"
   ]
  },
  {
   "cell_type": "markdown",
   "metadata": {},
   "source": [
    "Was liefern die Aufrufe `ga(1, 2, 3, 4)`, `ga(1, 2)`, `ga(b=1, a=2)`, `ga(b=1, d=2, c=4, a=3)`, `ga(1, b=2)` und `ga(a=1, b)`?   \n",
    "Stellen Sie zunächst eine Vermutung auf und führen Sie **danach** die obigen Aufrufe aus."
   ]
  },
  {
   "cell_type": "code",
   "execution_count": 0,
   "metadata": {
    "collapsed": true,
    "scrolled": true
   },
   "outputs": [],
   "source": []
  },
  {
   "cell_type": "markdown",
   "metadata": {},
   "source": [
    "---\n",
    "\n",
    "Gegeben sei die folgende Funktion `append`, die ein Element an eine übergebene Liste anhängt,  \n",
    "oder eine neue Liste erzeugt, wenn kein Argument für den zweiten Parameter übergeben wird."
   ]
  },
  {
   "cell_type": "code",
   "execution_count": 0,
   "metadata": {
    "collapsed": true
   },
   "outputs": [],
   "source": [
    "def append(item, lst=[]):\n",
    "    lst.append(item)\n",
    "    return lst"
   ]
  },
  {
   "cell_type": "markdown",
   "metadata": {},
   "source": [
    "Erzeugen Sie eine Instanz einer Liste und rufen Sie die Funktion `append` mit dieser mehrfach auf (indem Sie z.B. `1` und `2` hinzufügen). Leistet die Funktion das oben Beschriebene?"
   ]
  },
  {
   "cell_type": "code",
   "execution_count": 0,
   "metadata": {
    "collapsed": true
   },
   "outputs": [],
   "source": []
  },
  {
   "cell_type": "markdown",
   "metadata": {},
   "source": [
    "Nun nutzen Sie `append` mit dem Standardwert von `lst`, um mehrere einelementige Listen zu erzeugen. Was geht schief?"
   ]
  },
  {
   "cell_type": "code",
   "execution_count": 0,
   "metadata": {
    "collapsed": true
   },
   "outputs": [],
   "source": []
  },
  {
   "cell_type": "markdown",
   "metadata": {
    "slideshow": {
     "slide_type": "-"
    }
   },
   "source": [
    "Modifzieren Sie `append` so, dass die obigen Probleme gelöst werden."
   ]
  },
  {
   "cell_type": "code",
   "execution_count": 0,
   "metadata": {
    "collapsed": true,
    "slideshow": {
     "slide_type": "-"
    }
   },
   "outputs": [],
   "source": []
  },
  {
   "cell_type": "markdown",
   "metadata": {
    "slideshow": {
     "slide_type": "-"
    }
   },
   "source": [
    "---\n",
    "\n",
    "## Aufgabe 17 (Funktionen und Namensräume)\n",
    "\n",
    "In dieser Aufgabe werden die unterschiedlichen Namensräume bei der Verwendung von Funktionen erarbeitet.\n",
    "\n",
    "Betrachten Sie folgendes Beispielprogramm und überlegen Sie, in welchen Namensräumen der Bezeichner `name` an den markierten Stellen existiert und welche Instanz jeweils verwendet wird.\n",
    "\n",
    "```python\n",
    "name = \"Weiss\"\n",
    "# Stelle 1\n",
    "\n",
    "def hoeflich(titel, name):\n",
    "    # Stelle 2\n",
    "    name = titel + \" \" + name\n",
    "    # Stelle 3\n",
    "    return name\n",
    "\n",
    "# Stelle 4\n",
    "print(hoeflich(\"Dr.\", name))\n",
    "# Stelle 5\n",
    "print(name)\n",
    "```"
   ]
  },
  {
   "cell_type": "markdown",
   "metadata": {},
   "source": [
    "---\n",
    "\n",
    "**Überlegen** Sie sich für jedes der folgenden Beispiele, was ausgegeben wird und **warum**.   \n",
    "Machen Sie sich insbesondere klar, wie sich die lokalen und globalen Namensräume entwickeln."
   ]
  },
  {
   "cell_type": "code",
   "execution_count": 0,
   "metadata": {
    "collapsed": true
   },
   "outputs": [],
   "source": [
    "a = \"Hallo\"\n",
    "def f():\n",
    "    print(a) \n",
    "f()"
   ]
  },
  {
   "cell_type": "code",
   "execution_count": 0,
   "metadata": {
    "collapsed": true
   },
   "outputs": [],
   "source": [
    "a = \"Hallo\"\n",
    "def f():\n",
    "    a = \"Welt\"\n",
    "f()\n",
    "print(a) "
   ]
  },
  {
   "cell_type": "code",
   "execution_count": 0,
   "metadata": {
    "collapsed": true,
    "scrolled": true
   },
   "outputs": [],
   "source": [
    "a = \"Hallo\"\n",
    "def f():\n",
    "    a = \"Welt\"\n",
    "    print(a) \n",
    "f()\n",
    "print(a) "
   ]
  },
  {
   "cell_type": "code",
   "execution_count": 0,
   "metadata": {
    "collapsed": true
   },
   "outputs": [],
   "source": [
    "a = \"Hallo\"\n",
    "def f():\n",
    "    global a\n",
    "    a = \"Welt\" \n",
    "f()\n",
    "print(a) "
   ]
  },
  {
   "cell_type": "code",
   "execution_count": 0,
   "metadata": {
    "collapsed": true
   },
   "outputs": [],
   "source": [
    "a = \"Hallo\"\n",
    "def f():\n",
    "    a = \"Welt\" \n",
    "    def g():\n",
    "        print(a) \n",
    "    g()\n",
    "f()\n",
    "print(a) "
   ]
  },
  {
   "cell_type": "code",
   "execution_count": 0,
   "metadata": {
    "collapsed": true
   },
   "outputs": [],
   "source": [
    "a = \"Feldlerche\"\n",
    "def f():\n",
    "    a = \"Hallo\"\n",
    "    def g():\n",
    "        global a   \n",
    "        a = \"Welt\"\n",
    "    g()\n",
    "    print(a) \n",
    "f()"
   ]
  },
  {
   "cell_type": "code",
   "execution_count": 0,
   "metadata": {
    "collapsed": true
   },
   "outputs": [],
   "source": [
    "a = \"Feldlerche\"\n",
    "def f():\n",
    "    a = \"Hallo\"\n",
    "    def g():\n",
    "        nonlocal a\n",
    "        a = \"Welt\"\n",
    "    g()\n",
    "    print(a) \n",
    "f()\n",
    "print(a) "
   ]
  },
  {
   "cell_type": "markdown",
   "metadata": {},
   "source": [
    "---\n",
    "\n",
    "Mithilfe der parameterlosen eingebauten Funktionen `globals` bzw. `locals` können Sie sich den aktuellen globalen bzw. lokalen Namensraum als Dictionary zurückgeben lassen.  \n",
    "Prüfen Sie mithilfe von `globals` und `locals` Ihre Überlegungen aus den vorherigen beiden Teilaufgaben.\n",
    "\n",
    "*Bermerkung:  \n",
    "Im Jupyter-Notebook werden globale Variablen beibehalten (die Variablen sind über alle ausgeführten Zellen hinweg \"sichtbar\").\n",
    "Deshalb liefert `globals()` ebenfalls alle zuvor definierten Variablen.*"
   ]
  },
  {
   "cell_type": "code",
   "execution_count": 0,
   "metadata": {
    "collapsed": true
   },
   "outputs": [],
   "source": [
    "# Beispiel zur zweiten Teilaufgabe:\n",
    "a = \"Hallo\"\n",
    "def f():\n",
    "    print(\"globals()['a'] =\", globals()[\"a\"])\n",
    "    print(\"a in locals() =\", (\"a\" in locals()), \"\\n\")\n",
    "    a = \"Welt\"\n",
    "    print(\"after: a = 'Welt' \\n\")\n",
    "    print(\"globals()['a'] =\", globals()[\"a\"])\n",
    "    print(\"a in locals() =\", (\"a\" in locals()) )\n",
    "    print(\"locals()['a'] =\", locals()[\"a\"], \"\\n\")\n",
    "f()\n",
    "print(a)"
   ]
  },
  {
   "cell_type": "markdown",
   "metadata": {},
   "source": [
    "---\n",
    "\n",
    "Zwei Faustregeln für gute Programmierpraxis in Python lauten:  \n",
    "- Der Datenaustausch mit Funktionen sollte ausschließlich über Parameter und Rückgabewerte erfolgen.  \n",
    "- Explizit ist besser als implizit.   \n",
    "\n",
    "Inwiefern verletzen globale Variablen diese beiden Regeln?\n",
    "\n"
   ]
  },
  {
   "cell_type": "markdown",
   "metadata": {},
   "source": [
    "---\n",
    "\n",
    "Betrachten Sie das folgende fehlerhafte Programm.  \n",
    "Warum liefert der Aufruf von `g` einen Fehler, obwohl `f` problemlos funktioniert?"
   ]
  },
  {
   "cell_type": "code",
   "execution_count": 0,
   "metadata": {
    "collapsed": true
   },
   "outputs": [],
   "source": [
    "x = 10\n",
    "\n",
    "def f():\n",
    "    print(\"Der Wert von x ist\", x)\n",
    "\n",
    "def g():\n",
    "    print(\"Der Wert von x ist\", x)\n",
    "    x = None\n",
    "\n",
    "f()\n",
    "g()"
   ]
  },
  {
   "cell_type": "markdown",
   "metadata": {},
   "source": [
    "---\n",
    "\n",
    "Eine Funktion, die sich selbst aufruft, wird *rekursiv* genannt.  \n",
    "Die folgende rekursive Funktion `fak` berechnet die Fakultät einer natürlichen Zahl."
   ]
  },
  {
   "cell_type": "code",
   "execution_count": 0,
   "metadata": {
    "collapsed": true
   },
   "outputs": [],
   "source": [
    "def fak(n):\n",
    "    if n > 1:\n",
    "        return n * fak(n-1)\n",
    "    return 1"
   ]
  },
  {
   "cell_type": "markdown",
   "metadata": {},
   "source": [
    "Überlegen Sie sich, welche Namensräume in folgendem Programm erzeugt werden bzw. zu welcher Zeit existieren."
   ]
  },
  {
   "cell_type": "code",
   "execution_count": 0,
   "metadata": {
    "collapsed": true
   },
   "outputs": [],
   "source": [
    "n = 4\n",
    "n = fak(n)\n",
    "print(n)"
   ]
  },
  {
   "cell_type": "markdown",
   "metadata": {},
   "source": [
    "## Bonus: Vier Gewinnt\n",
    "\n",
    "Schauen Sie sich das Bonus-Notebook `VierGewinnt.ipynb` im Bonusordner an."
   ]
  }
 ],
 "metadata": {
  "kernelspec": {
   "display_name": "Python 3",
   "language": "python",
   "name": "python3"
  },
  "language_info": {
   "codemirror_mode": {
    "name": "ipython",
    "version": 3
   },
   "file_extension": ".py",
   "mimetype": "text/x-python",
   "name": "python",
   "nbconvert_exporter": "python",
   "pygments_lexer": "ipython3",
   "version": "3.6.3"
  }
 },
 "nbformat": 4,
 "nbformat_minor": 2
}
