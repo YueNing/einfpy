{
 "cells": [
  {
   "cell_type": "markdown",
   "metadata": {},
   "source": [
    "# Einführung in Python - Übungsblatt 3\n",
    "\n",
    "---\n",
    "\n",
    "<img src=\"https://imgur.com/0bdei37.png\" alt=\"\" width=1000 border=\"0\" />"
   ]
  },
  {
   "cell_type": "markdown",
   "metadata": {},
   "source": [
    "## Aufgabe 11 (Daten testen)\n",
    "Schreiben Sie ein Programm, das vom Benutzer ein Datum einliest und prüft,\n",
    "ob es sich um ein gültiges Datum handelt. Das Format der Eingabe sei dabei\n",
    "<span style=\"color:magenta\">**\"DD. M...M JJJJ\"**</span>, wobei **DD** für den Tag im Monat, **M...M** für die deutsche Bezeichnung des Monats und **JJJJ** für das Jahr inklusive des Jahrhunderts steht. Beispielsweise\n",
    "ist <span style=\"color:magenta\">**\"03. Oktober 1990\"**</span> eine gültige Eingabe.  \n",
    "\n",
    "Verwenden Sie dabei für die Gültigkeitsprüfung insbesondere die folgende Definition\n",
    "eines Schaltjahres: Ein Jahr `X` ist ein Schaltjahr, falls `X` durch `4`, aber nicht durch\n",
    "`100` teilbar ist, oder falls `X` durch `400` teilbar ist.\n",
    "\n",
    "Beispiel:  \n",
    "<span style=\"color:magenta\">**\"29. Februar 2000\"**</span> ist gültig.  \n",
    "<span style=\"color:magenta\">**\"29. Februar 1900\"**</span> ist nicht gültig.\n",
    "\n",
    "\n",
    "*Hinweis:  \n",
    "Ihr Programm darf voraussetzen, dass sich der Benutzer an das obige Format hält.  \n",
    "Die Funktion [list.index](https://docs.python.org/3.6/tutorial/datastructures.html#more-on-lists) könnte sich hierbei als hilfreich erweisen.*"
   ]
  },
  {
   "cell_type": "code",
   "execution_count": 3,
   "metadata": {},
   "outputs": [
    {
     "name": "stdout",
     "output_type": "stream",
     "text": [
      "please input the datetime23. Oktober 1900\n",
      "False schaltjahr\n"
     ]
    }
   ],
   "source": [
    "months = [\n",
    "    \"Januar\", \"Februar\", \"März\", \"April\",\n",
    "    \"Mai\", \"Juni\", \"Juli\", \"August\",\n",
    "    \"September\", \"Oktober\", \"November\", \"Dezember\"\n",
    "]\n",
    "days_per_month = [31,28,31,30,31,30,31,31,30,31,30,31]\n",
    "\n",
    "def validate(date_text):\n",
    "    try:\n",
    "        date_text = date_text.split(' ')\n",
    "        index = months.index(date_text[1]) if date_text[1] in months else print('error months')\n",
    "        if 0< int(date_text[0].split('.')[0]) < days_per_month[index]:\n",
    "            return True, int(date_text[2])\n",
    "            print('True Formate')\n",
    "        else:\n",
    "            print('error day')\n",
    "    except ValueError:\n",
    "        raise ValueError(\"Incorrect data format, should be DD MM YYYY\")\n",
    "\n",
    "def schaltjahr(jahr):\n",
    "    jahr = int(jahr)\n",
    "    if ((jahr % 4 == 0) and not (jahr % 100 == 0) or (jahr % 400 == 0)):\n",
    "        return True\n",
    "    else:\n",
    "        return False\n",
    "\n",
    "date_time = input(\"please input the datetime\")\n",
    "validate, jahr = validate(date_time)\n",
    "if validate:\n",
    "    print('{} schaltjahr'.format(schaltjahr(jahr)))\n"
   ]
  },
  {
   "cell_type": "markdown",
   "metadata": {},
   "source": [
    "## Aufgabe 12 (Dictionaries)\n",
    "Legen Sie ein Dictionary mit den 3 Schlüssel-Wert-Paaren `{2.4: 534}, {True: [1,2,3]}` und `{1.45: \"Hallo\"}` an und referenzieren Sie es mit `dict0`."
   ]
  },
  {
   "cell_type": "code",
   "execution_count": 24,
   "metadata": {},
   "outputs": [],
   "source": [
    "dict0 = {2.4: 534, True:1, 1.45: \"Hallo\"}"
   ]
  },
  {
   "cell_type": "markdown",
   "metadata": {},
   "source": [
    "Geben Sie mit Hilfe einer `for`-Schleife und dem `print`-Befehl die Schlüssel und Werte in `dict0` aus.  \n",
    "*Hinweis: Beim Iterieren über ein Dictionary mit einer `for`-Schleife durchläuft die Laufvariable die Schlüssel des Dictionaries.*"
   ]
  },
  {
   "cell_type": "code",
   "execution_count": 26,
   "metadata": {
    "scrolled": true
   },
   "outputs": [
    {
     "name": "stdout",
     "output_type": "stream",
     "text": [
      "True:1\n",
      "2.4:534\n",
      "1.45:Hallo\n"
     ]
    }
   ],
   "source": [
    "for key in dict0:\n",
    "    print('{0}:{1}'.format(key, dict0[key]))"
   ]
  },
  {
   "cell_type": "markdown",
   "metadata": {},
   "source": [
    "*Bemerkung: Seit Python 3.6 sind Dictionary-Einträge in der Reihenfolge ihres Hinzufügens geordnet, was aber als ein Implementierungsdetail betrachtet wird. Ihre Programme sollten sich auf diese Ordnung nicht verlassen.*\n",
    "\n",
    "---\n",
    "\n",
    "Erstellen Sie ein Dictionary `dict1`, fügen Sie die Schlüssel-Wert Paare `{0: \"int\"}`, `{0.0: \"float\"}` und `{False: \"bool\"}` nacheinander hinzu und geben Sie es mit `print` aus. Was fällt Ihnen auf?\n",
    "\n",
    "Welchen Wahrheitswert liefert Python für `False` in `dict1` bzw. `0.000` in `dict1`?  \n",
    "Welchen Schluss können Sie in Hinblick auf die Schlüsselverwaltung ziehen?"
   ]
  },
  {
   "cell_type": "code",
   "execution_count": 0,
   "metadata": {},
   "outputs": [],
   "source": []
  },
  {
   "cell_type": "markdown",
   "metadata": {},
   "source": [
    "\n",
    "---\n",
    "\n",
    "Geben Sie durch `type` und `id` die Merkmale von `dict0` aus.  \n",
    "Löschen Sie durch `del` ein Schlüssel-Wert-Paar  und geben Sie ein weiteres Mal die ID aus.  \n",
    "Ergänzen Sie das Schlüssel-Wert-Paar `{False: [1, 3, 4]}` und ändern Sie anschließend den zweiten Eintrag dieser Liste zu `7`.  \n",
    "Wie wirkt sich dies auf die ID des Dictionaries aus?  \n",
    "Können Sie auch das Paar `{[1, 3, 4]: False}` ergänzen?"
   ]
  },
  {
   "cell_type": "code",
   "execution_count": 0,
   "metadata": {},
   "outputs": [],
   "source": []
  },
  {
   "cell_type": "markdown",
   "metadata": {},
   "source": [
    "Durch `dict2 = dict0.copy()` wird eine Kopie des Dictionaries erstellt und durch `dict2` referenziert. Vergleichen Sie die IDs der Dictionaries.  \n",
    "Ändern Sie in der Liste zum Schlüssel `False` von `dict2` den ersten Eintrag zu `0`.  \n",
    "Geben Sie die Werte zum Schlüssel `False` der Dictionaries `dict0` und `dict2` aus. Was fällt Ihnen auf?\n"
   ]
  },
  {
   "cell_type": "code",
   "execution_count": 0,
   "metadata": {},
   "outputs": [],
   "source": []
  },
  {
   "cell_type": "markdown",
   "metadata": {},
   "source": [
    "---\n",
    "\n",
    "Löschen Sie das Paar zum Schlüssel `0` in `dict1`. Was liefert `len(dict1)` dann? Warum?  \n",
    "Gehen Sie anlog mit `dict0` vor, indem Sie die Methode [`clear`](https://docs.python.org/3/library/stdtypes.html?highlight=clear#dict.clear) verwenden."
   ]
  },
  {
   "cell_type": "code",
   "execution_count": 0,
   "metadata": {},
   "outputs": [],
   "source": []
  },
  {
   "cell_type": "markdown",
   "metadata": {},
   "source": [
    "## Aufgabe 13 (Unveränderliche Sequenzen)\n",
    "Neben dem Datentyp `list` für Listen gibt es den Datentyp `tuple` für unveränderliche Listen, mit dem wir uns in dieser Aufgabe beschäftigen.\n",
    "Erzeugen Sie ein Tupel `tpl`, welches die Zahlen von `0` bis `9` enthält.\n",
    "Welche Ausgaben liefern die Befehle \n",
    "* `tpl[1]`,\n",
    "* `tpl[0]`,\n",
    "* `tpl[-1]`,\n",
    "* `tpl[-2]`,\n",
    "* `tpl[-len(tpl)]`?"
   ]
  },
  {
   "cell_type": "code",
   "execution_count": 0,
   "metadata": {},
   "outputs": [],
   "source": []
  },
  {
   "cell_type": "markdown",
   "metadata": {},
   "source": [
    "Welche Ausgaben liefern die Befehle `tpl[2:]`, `tpl[:-3]`, `tpl[7:2]`, `tpl[::-1]`, `tpl[4::2]`?"
   ]
  },
  {
   "cell_type": "code",
   "execution_count": 0,
   "metadata": {},
   "outputs": [],
   "source": []
  },
  {
   "cell_type": "markdown",
   "metadata": {},
   "source": [
    "---\n",
    "\n",
    "Erzeugen Sie ein leeres Tupel namens `empty` und eines, das nur den String `\"Feldlerche\"` enthält mit dem Namen `tpl`. Stellen Sie mit dem Befehl `type(tpl)` sicher, dass es sich hierbei tatsächlich um ein Tupel handelt.    \n",
    "Warum ist es sinnvoll, dass `(\"Hallo\")` kein Tupel erzeugt?"
   ]
  },
  {
   "cell_type": "code",
   "execution_count": 0,
   "metadata": {},
   "outputs": [],
   "source": []
  },
  {
   "cell_type": "markdown",
   "metadata": {},
   "source": [
    "---\n",
    "\n",
    "Erzeugen Sie mittels `lpt = tpl` eine weitere Referenz auf das Tupel.  \n",
    "Führen Sie folgende Anweisungen aus und vergleichen Sie das Verhalten mit dem Verhalten für Listen und Strings."
   ]
  },
  {
   "cell_type": "code",
   "execution_count": 0,
   "metadata": {},
   "outputs": [],
   "source": [
    "lpt = tpl\n",
    "tpl += (10, 11)\n",
    "print(tpl)\n",
    "print(lpt)"
   ]
  },
  {
   "cell_type": "markdown",
   "metadata": {},
   "source": [
    "\n",
    "---\n",
    "\n",
    "Betrachten Sie folgenden Code und fügen Sie **anschließend** mit `tup1[1].append(4)` an das Ende der Liste unter `tup1[1]` die\n",
    "Zahl `4` hinzu und lassen Sie sich die Tupel `tup1` und `tup2` erneut ausgeben.   \n",
    "Entspricht die Ausgabe Ihren Erwartungen? Warum ist das Ergebnis kein Widerspruch zur Unveränderlichkeit eines Tupels?"
   ]
  },
  {
   "cell_type": "code",
   "execution_count": 0,
   "metadata": {},
   "outputs": [],
   "source": [
    "lst = [1, 2, 3]\n",
    "tup1 = (\"Hallo\", lst, \"Welt\")\n",
    "tup2 = tup1\n",
    "tup1 += (\"Heute ist ein toller Tag\",)\n",
    "print(tup1)\n",
    "print(tup2)\n"
   ]
  },
  {
   "cell_type": "markdown",
   "metadata": {},
   "source": [
    "---\n",
    "\n",
    "Welche Ausgabe erzeugt die Anweisung `1, 2, 3`? "
   ]
  },
  {
   "cell_type": "code",
   "execution_count": 0,
   "metadata": {},
   "outputs": [],
   "source": [
    "1, 2, 3"
   ]
  },
  {
   "cell_type": "markdown",
   "metadata": {},
   "source": [
    "Was für eine Instanz referenziert also `v` nach der Anweisung `v = 1, 2, 3`?   \n",
    "Welchen Effekt haben die Anweisungen `(a, b, c) = v` und `d, e, f = v`?   \n",
    "Lassen Sie sich hierfür `a, b, c, d, e` und `f` ausgeben. "
   ]
  },
  {
   "cell_type": "code",
   "execution_count": 0,
   "metadata": {
    "scrolled": true
   },
   "outputs": [],
   "source": []
  },
  {
   "cell_type": "markdown",
   "metadata": {},
   "source": [
    "---\n",
    "\n",
    "Geben Sie eine einzeilige Anweisung an, die die Werte der Variablen `a` und `b` tauscht."
   ]
  },
  {
   "cell_type": "code",
   "execution_count": 0,
   "metadata": {},
   "outputs": [],
   "source": []
  },
  {
   "cell_type": "markdown",
   "metadata": {},
   "source": [
    "---\n",
    "\n",
    "Was liefern `a, b, c = 1, 2` und `a, b, c, d = range(4)`?"
   ]
  },
  {
   "cell_type": "code",
   "execution_count": 0,
   "metadata": {},
   "outputs": [],
   "source": []
  },
  {
   "cell_type": "markdown",
   "metadata": {},
   "source": [
    "---\n",
    "\n",
    "Betrachten Sie die folgende Schleife, die eine Liste von 2-elementigen iterierbaren Objekten durchläuft."
   ]
  },
  {
   "cell_type": "code",
   "execution_count": 0,
   "metadata": {},
   "outputs": [],
   "source": [
    "for e in [(1, 2), [2, 3], range(2)]:\n",
    "    x, y = e\n",
    "    print(x, y)"
   ]
  },
  {
   "cell_type": "markdown",
   "metadata": {},
   "source": [
    "Sie können das automatische Entpacken von Tupeln auch direkt bei den Laufvariablen einer `for`-Schleife anwenden:"
   ]
  },
  {
   "cell_type": "code",
   "execution_count": 0,
   "metadata": {},
   "outputs": [],
   "source": [
    "for x, y in [(1, 2), [2, 3], range(2)]:\n",
    "    print(x, y)"
   ]
  },
  {
   "cell_type": "markdown",
   "metadata": {},
   "source": [
    "Nutzen Sie diese Technik, um Teilaufgabe (b) der Aufgabe *Familienfeier (2. Übungsblatt)* ohne verschachtelte for-Schleifen zu lösen.  \n",
    "\n",
    "*Hinweis:  \n",
    "Informieren Sie sich über die Funktion [`product`](https://docs.python.org/3.6/library/itertools.html#itertools.product) im Modul [`itertools`](https://docs.python.org/3.6/library/itertools.html).  \n",
    "Mit `from itertools import product` können Sie diese Funktion importieren.*\n"
   ]
  },
  {
   "cell_type": "code",
   "execution_count": 0,
   "metadata": {},
   "outputs": [],
   "source": []
  },
  {
   "cell_type": "markdown",
   "metadata": {},
   "source": [
    "---\n",
    "\n",
    "Erzeugen Sie ein Dictionary, das dem Tupel `(1, 2, 3)` den Wert `[4, 5, 6]` zuordnet.  \n",
    "Ist es auch möglich, das Tupel `(1, [2, 3])` als Schlüssel eines Dictionaries zu verwenden?  \n",
    "Welcher strukturell ähnliche Schlüssel kann `(1, [2, 3])` ersetzen?"
   ]
  },
  {
   "cell_type": "code",
   "execution_count": 0,
   "metadata": {},
   "outputs": [],
   "source": []
  },
  {
   "cell_type": "markdown",
   "metadata": {},
   "source": [
    "---\n",
    "\n",
    "Skizzieren Sie die Beziehungen aller auftretenden Instanzen und Referenzen im folgenden Beispiel:"
   ]
  },
  {
   "cell_type": "code",
   "execution_count": 0,
   "metadata": {},
   "outputs": [],
   "source": [
    "rek = []\n",
    "rek.append(rek)\n",
    "print(rek)\n",
    "\n"
   ]
  },
  {
   "cell_type": "markdown",
   "metadata": {},
   "source": [
    "## Aufgabe 14 (Bonus: Ziegenproblem)\n",
    "\n",
    "In einer Game-Show gibt es drei verschlossene Tore, wobei hinter genau einem der Tore ein Auto und hinter den beiden anderen Toren Ziegen stehen.  \n",
    "Zu Beginn wählt der Spieler eines der drei Tore.  \n",
    "Daraufhin öffnet der Moderator ein anderes Tor, hinter dem eine Ziege steht.   \n",
    "Nun kann sich der Kandidat entscheiden, ob er bei seiner ursprünglichen Wahl bleiben, oder auf das andere, noch geschlossene Tor wechseln möchte.\n",
    "\n",
    "Mithilfe von `import random` können Sie das Modul [`random`](https://docs.python.org/3.6/library/random.html) importieren. Nutzen Sie `range` und die Funktion [`random.choice`](https://docs.python.org/3.6/library/random.html#random.choice) des Moduls [`random`](https://docs.python.org/3.6/library/random.html), um eine zufällige Zahl `n ∈ {1, 2, . . . , 100}` zu erzeugen.\n"
   ]
  },
  {
   "cell_type": "code",
   "execution_count": 0,
   "metadata": {},
   "outputs": [],
   "source": []
  },
  {
   "cell_type": "markdown",
   "metadata": {},
   "source": [
    "---\n",
    "\n",
    "Schreiben Sie ein Programm, das mit dem Benutzer das Spiel aus der Aufgabenbeschreibung spielt.  \n",
    "Ein Spielablauf soll folgendermaßen auf dem Bildschirm aussehen:  \n",
    "```\n",
    "Master: Waehlen Sie eins der drei Tore.\n",
    "Spieler: 0\n",
    "Master: Hinter Tor 2 ist eine Ziege.\n",
    "Master: Moechten Sie auf das Tor 1 wechseln?\n",
    "Spieler: nein\n",
    "Master: Juhu! Sie haben gewonnen!\n",
    "```\n",
    "\n",
    "*Hinweis: Der Datentyp `set` ist gegebenenfalls hilfreich.*"
   ]
  },
  {
   "cell_type": "code",
   "execution_count": 0,
   "metadata": {},
   "outputs": [],
   "source": []
  },
  {
   "cell_type": "markdown",
   "metadata": {
    "collapsed": true
   },
   "source": [
    "---\n",
    "\n",
    "Vergleichen Sie die Gewinnwahrscheinlichkeiten des \"Wechslers\" mit dem \"Bleiber\", indem Sie zwei Versionen des Programms erstellen, die jeweils `20000` Runden mit einem fiktiven Spieler spielen.  \n",
    "Dabei soll der fiktive Spieler in der einen Programmversion immer zum verbleibenden Tor wechseln, während er es in der\n",
    "anderen Version nie tut.  \n",
    "Beide Versionen sollen die relative Gewinnhäufigkeit des jeweiligen Spielers anhand der `20000` Spiele ausgeben."
   ]
  },
  {
   "cell_type": "code",
   "execution_count": 0,
   "metadata": {},
   "outputs": [],
   "source": []
  }
 ],
 "metadata": {
  "anaconda-cloud": {},
  "kernelspec": {
   "display_name": "Python 3",
   "language": "python",
   "name": "python3"
  },
  "language_info": {
   "codemirror_mode": {
    "name": "ipython",
    "version": 3
   },
   "file_extension": ".py",
   "mimetype": "text/x-python",
   "name": "python",
   "nbconvert_exporter": "python",
   "pygments_lexer": "ipython3",
   "version": "3.5.3"
  }
 },
 "nbformat": 4,
 "nbformat_minor": 1
}
